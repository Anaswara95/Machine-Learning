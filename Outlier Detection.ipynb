{
 "cells": [
  {
   "cell_type": "markdown",
   "id": "3134b3b2-fcff-41b4-8771-c26fa431e7ab",
   "metadata": {},
   "source": [
    "# <span style=\"color:purple\"> Outlier Detection"
   ]
  },
  {
   "cell_type": "code",
   "execution_count": 237,
   "id": "22c36178-2049-4625-9a22-52370363ba7c",
   "metadata": {},
   "outputs": [],
   "source": [
    "import numpy as np\n",
    "import pandas as pd\n",
    "import matplotlib.pyplot as plt\n",
    "import seaborn as sns "
   ]
  },
  {
   "cell_type": "code",
   "execution_count": 238,
   "id": "e863307a-6850-4641-a620-1d5999e6958b",
   "metadata": {},
   "outputs": [
    {
     "data": {
      "text/html": [
       "<div>\n",
       "<style scoped>\n",
       "    .dataframe tbody tr th:only-of-type {\n",
       "        vertical-align: middle;\n",
       "    }\n",
       "\n",
       "    .dataframe tbody tr th {\n",
       "        vertical-align: top;\n",
       "    }\n",
       "\n",
       "    .dataframe thead th {\n",
       "        text-align: right;\n",
       "    }\n",
       "</style>\n",
       "<table border=\"1\" class=\"dataframe\">\n",
       "  <thead>\n",
       "    <tr style=\"text-align: right;\">\n",
       "      <th></th>\n",
       "      <th>location</th>\n",
       "      <th>size</th>\n",
       "      <th>total_sqft</th>\n",
       "      <th>bath</th>\n",
       "      <th>price</th>\n",
       "      <th>bhk</th>\n",
       "      <th>price_per_sqft</th>\n",
       "    </tr>\n",
       "  </thead>\n",
       "  <tbody>\n",
       "    <tr>\n",
       "      <th>0</th>\n",
       "      <td>Electronic City Phase II</td>\n",
       "      <td>2 BHK</td>\n",
       "      <td>1056.0</td>\n",
       "      <td>2.0</td>\n",
       "      <td>39.07</td>\n",
       "      <td>2</td>\n",
       "      <td>3699</td>\n",
       "    </tr>\n",
       "    <tr>\n",
       "      <th>1</th>\n",
       "      <td>Chikka Tirupathi</td>\n",
       "      <td>4 Bedroom</td>\n",
       "      <td>2600.0</td>\n",
       "      <td>5.0</td>\n",
       "      <td>120.00</td>\n",
       "      <td>4</td>\n",
       "      <td>4615</td>\n",
       "    </tr>\n",
       "    <tr>\n",
       "      <th>2</th>\n",
       "      <td>Uttarahalli</td>\n",
       "      <td>3 BHK</td>\n",
       "      <td>1440.0</td>\n",
       "      <td>2.0</td>\n",
       "      <td>62.00</td>\n",
       "      <td>3</td>\n",
       "      <td>4305</td>\n",
       "    </tr>\n",
       "    <tr>\n",
       "      <th>3</th>\n",
       "      <td>Lingadheeranahalli</td>\n",
       "      <td>3 BHK</td>\n",
       "      <td>1521.0</td>\n",
       "      <td>3.0</td>\n",
       "      <td>95.00</td>\n",
       "      <td>3</td>\n",
       "      <td>6245</td>\n",
       "    </tr>\n",
       "    <tr>\n",
       "      <th>4</th>\n",
       "      <td>Kothanur</td>\n",
       "      <td>2 BHK</td>\n",
       "      <td>1200.0</td>\n",
       "      <td>2.0</td>\n",
       "      <td>51.00</td>\n",
       "      <td>2</td>\n",
       "      <td>4250</td>\n",
       "    </tr>\n",
       "    <tr>\n",
       "      <th>...</th>\n",
       "      <td>...</td>\n",
       "      <td>...</td>\n",
       "      <td>...</td>\n",
       "      <td>...</td>\n",
       "      <td>...</td>\n",
       "      <td>...</td>\n",
       "      <td>...</td>\n",
       "    </tr>\n",
       "    <tr>\n",
       "      <th>13195</th>\n",
       "      <td>Whitefield</td>\n",
       "      <td>5 Bedroom</td>\n",
       "      <td>3453.0</td>\n",
       "      <td>4.0</td>\n",
       "      <td>231.00</td>\n",
       "      <td>5</td>\n",
       "      <td>6689</td>\n",
       "    </tr>\n",
       "    <tr>\n",
       "      <th>13196</th>\n",
       "      <td>other</td>\n",
       "      <td>4 BHK</td>\n",
       "      <td>3600.0</td>\n",
       "      <td>5.0</td>\n",
       "      <td>400.00</td>\n",
       "      <td>4</td>\n",
       "      <td>11111</td>\n",
       "    </tr>\n",
       "    <tr>\n",
       "      <th>13197</th>\n",
       "      <td>Raja Rajeshwari Nagar</td>\n",
       "      <td>2 BHK</td>\n",
       "      <td>1141.0</td>\n",
       "      <td>2.0</td>\n",
       "      <td>60.00</td>\n",
       "      <td>2</td>\n",
       "      <td>5258</td>\n",
       "    </tr>\n",
       "    <tr>\n",
       "      <th>13198</th>\n",
       "      <td>Padmanabhanagar</td>\n",
       "      <td>4 BHK</td>\n",
       "      <td>4689.0</td>\n",
       "      <td>4.0</td>\n",
       "      <td>488.00</td>\n",
       "      <td>4</td>\n",
       "      <td>10407</td>\n",
       "    </tr>\n",
       "    <tr>\n",
       "      <th>13199</th>\n",
       "      <td>Doddathoguru</td>\n",
       "      <td>1 BHK</td>\n",
       "      <td>550.0</td>\n",
       "      <td>1.0</td>\n",
       "      <td>17.00</td>\n",
       "      <td>1</td>\n",
       "      <td>3090</td>\n",
       "    </tr>\n",
       "  </tbody>\n",
       "</table>\n",
       "<p>13200 rows × 7 columns</p>\n",
       "</div>"
      ],
      "text/plain": [
       "                       location       size  total_sqft  bath   price  bhk  \\\n",
       "0      Electronic City Phase II      2 BHK      1056.0   2.0   39.07    2   \n",
       "1              Chikka Tirupathi  4 Bedroom      2600.0   5.0  120.00    4   \n",
       "2                   Uttarahalli      3 BHK      1440.0   2.0   62.00    3   \n",
       "3            Lingadheeranahalli      3 BHK      1521.0   3.0   95.00    3   \n",
       "4                      Kothanur      2 BHK      1200.0   2.0   51.00    2   \n",
       "...                         ...        ...         ...   ...     ...  ...   \n",
       "13195                Whitefield  5 Bedroom      3453.0   4.0  231.00    5   \n",
       "13196                     other      4 BHK      3600.0   5.0  400.00    4   \n",
       "13197     Raja Rajeshwari Nagar      2 BHK      1141.0   2.0   60.00    2   \n",
       "13198           Padmanabhanagar      4 BHK      4689.0   4.0  488.00    4   \n",
       "13199              Doddathoguru      1 BHK       550.0   1.0   17.00    1   \n",
       "\n",
       "       price_per_sqft  \n",
       "0                3699  \n",
       "1                4615  \n",
       "2                4305  \n",
       "3                6245  \n",
       "4                4250  \n",
       "...               ...  \n",
       "13195            6689  \n",
       "13196           11111  \n",
       "13197            5258  \n",
       "13198           10407  \n",
       "13199            3090  \n",
       "\n",
       "[13200 rows x 7 columns]"
      ]
     },
     "execution_count": 238,
     "metadata": {},
     "output_type": "execute_result"
    }
   ],
   "source": [
    "df= pd.read_csv('C:\\\\Users\\\\deepz\\\\Downloads\\\\house_price.csv')\n",
    "df"
   ]
  },
  {
   "cell_type": "code",
   "execution_count": 239,
   "id": "c25e8316-8510-48e7-9f76-ef99be721e44",
   "metadata": {},
   "outputs": [
    {
     "name": "stdout",
     "output_type": "stream",
     "text": [
      "<class 'pandas.core.frame.DataFrame'>\n",
      "RangeIndex: 13200 entries, 0 to 13199\n",
      "Data columns (total 7 columns):\n",
      " #   Column          Non-Null Count  Dtype  \n",
      "---  ------          --------------  -----  \n",
      " 0   location        13200 non-null  object \n",
      " 1   size            13200 non-null  object \n",
      " 2   total_sqft      13200 non-null  float64\n",
      " 3   bath            13200 non-null  float64\n",
      " 4   price           13200 non-null  float64\n",
      " 5   bhk             13200 non-null  int64  \n",
      " 6   price_per_sqft  13200 non-null  int64  \n",
      "dtypes: float64(3), int64(2), object(2)\n",
      "memory usage: 722.0+ KB\n"
     ]
    }
   ],
   "source": [
    "df.info()"
   ]
  },
  {
   "cell_type": "code",
   "execution_count": 240,
   "id": "310b903d-591e-4e5a-a248-cfc97d9845d0",
   "metadata": {},
   "outputs": [
    {
     "data": {
      "text/html": [
       "<div>\n",
       "<style scoped>\n",
       "    .dataframe tbody tr th:only-of-type {\n",
       "        vertical-align: middle;\n",
       "    }\n",
       "\n",
       "    .dataframe tbody tr th {\n",
       "        vertical-align: top;\n",
       "    }\n",
       "\n",
       "    .dataframe thead th {\n",
       "        text-align: right;\n",
       "    }\n",
       "</style>\n",
       "<table border=\"1\" class=\"dataframe\">\n",
       "  <thead>\n",
       "    <tr style=\"text-align: right;\">\n",
       "      <th></th>\n",
       "      <th>location</th>\n",
       "      <th>size</th>\n",
       "      <th>total_sqft</th>\n",
       "      <th>bath</th>\n",
       "      <th>price</th>\n",
       "      <th>bhk</th>\n",
       "      <th>price_per_sqft</th>\n",
       "    </tr>\n",
       "  </thead>\n",
       "  <tbody>\n",
       "    <tr>\n",
       "      <th>count</th>\n",
       "      <td>13200</td>\n",
       "      <td>13200</td>\n",
       "      <td>13200.000000</td>\n",
       "      <td>13200.000000</td>\n",
       "      <td>13200.000000</td>\n",
       "      <td>13200.000000</td>\n",
       "      <td>1.320000e+04</td>\n",
       "    </tr>\n",
       "    <tr>\n",
       "      <th>unique</th>\n",
       "      <td>241</td>\n",
       "      <td>31</td>\n",
       "      <td>NaN</td>\n",
       "      <td>NaN</td>\n",
       "      <td>NaN</td>\n",
       "      <td>NaN</td>\n",
       "      <td>NaN</td>\n",
       "    </tr>\n",
       "    <tr>\n",
       "      <th>top</th>\n",
       "      <td>other</td>\n",
       "      <td>2 BHK</td>\n",
       "      <td>NaN</td>\n",
       "      <td>NaN</td>\n",
       "      <td>NaN</td>\n",
       "      <td>NaN</td>\n",
       "      <td>NaN</td>\n",
       "    </tr>\n",
       "    <tr>\n",
       "      <th>freq</th>\n",
       "      <td>2872</td>\n",
       "      <td>5192</td>\n",
       "      <td>NaN</td>\n",
       "      <td>NaN</td>\n",
       "      <td>NaN</td>\n",
       "      <td>NaN</td>\n",
       "      <td>NaN</td>\n",
       "    </tr>\n",
       "    <tr>\n",
       "      <th>mean</th>\n",
       "      <td>NaN</td>\n",
       "      <td>NaN</td>\n",
       "      <td>1555.302783</td>\n",
       "      <td>2.691136</td>\n",
       "      <td>112.276178</td>\n",
       "      <td>2.800833</td>\n",
       "      <td>7.920337e+03</td>\n",
       "    </tr>\n",
       "    <tr>\n",
       "      <th>std</th>\n",
       "      <td>NaN</td>\n",
       "      <td>NaN</td>\n",
       "      <td>1237.323445</td>\n",
       "      <td>1.338915</td>\n",
       "      <td>149.175995</td>\n",
       "      <td>1.292843</td>\n",
       "      <td>1.067272e+05</td>\n",
       "    </tr>\n",
       "    <tr>\n",
       "      <th>min</th>\n",
       "      <td>NaN</td>\n",
       "      <td>NaN</td>\n",
       "      <td>1.000000</td>\n",
       "      <td>1.000000</td>\n",
       "      <td>8.000000</td>\n",
       "      <td>1.000000</td>\n",
       "      <td>2.670000e+02</td>\n",
       "    </tr>\n",
       "    <tr>\n",
       "      <th>25%</th>\n",
       "      <td>NaN</td>\n",
       "      <td>NaN</td>\n",
       "      <td>1100.000000</td>\n",
       "      <td>2.000000</td>\n",
       "      <td>50.000000</td>\n",
       "      <td>2.000000</td>\n",
       "      <td>4.267000e+03</td>\n",
       "    </tr>\n",
       "    <tr>\n",
       "      <th>50%</th>\n",
       "      <td>NaN</td>\n",
       "      <td>NaN</td>\n",
       "      <td>1275.000000</td>\n",
       "      <td>2.000000</td>\n",
       "      <td>71.850000</td>\n",
       "      <td>3.000000</td>\n",
       "      <td>5.438000e+03</td>\n",
       "    </tr>\n",
       "    <tr>\n",
       "      <th>75%</th>\n",
       "      <td>NaN</td>\n",
       "      <td>NaN</td>\n",
       "      <td>1672.000000</td>\n",
       "      <td>3.000000</td>\n",
       "      <td>120.000000</td>\n",
       "      <td>3.000000</td>\n",
       "      <td>7.317000e+03</td>\n",
       "    </tr>\n",
       "    <tr>\n",
       "      <th>max</th>\n",
       "      <td>NaN</td>\n",
       "      <td>NaN</td>\n",
       "      <td>52272.000000</td>\n",
       "      <td>40.000000</td>\n",
       "      <td>3600.000000</td>\n",
       "      <td>43.000000</td>\n",
       "      <td>1.200000e+07</td>\n",
       "    </tr>\n",
       "  </tbody>\n",
       "</table>\n",
       "</div>"
      ],
      "text/plain": [
       "       location   size    total_sqft          bath         price  \\\n",
       "count     13200  13200  13200.000000  13200.000000  13200.000000   \n",
       "unique      241     31           NaN           NaN           NaN   \n",
       "top       other  2 BHK           NaN           NaN           NaN   \n",
       "freq       2872   5192           NaN           NaN           NaN   \n",
       "mean        NaN    NaN   1555.302783      2.691136    112.276178   \n",
       "std         NaN    NaN   1237.323445      1.338915    149.175995   \n",
       "min         NaN    NaN      1.000000      1.000000      8.000000   \n",
       "25%         NaN    NaN   1100.000000      2.000000     50.000000   \n",
       "50%         NaN    NaN   1275.000000      2.000000     71.850000   \n",
       "75%         NaN    NaN   1672.000000      3.000000    120.000000   \n",
       "max         NaN    NaN  52272.000000     40.000000   3600.000000   \n",
       "\n",
       "                 bhk  price_per_sqft  \n",
       "count   13200.000000    1.320000e+04  \n",
       "unique           NaN             NaN  \n",
       "top              NaN             NaN  \n",
       "freq             NaN             NaN  \n",
       "mean        2.800833    7.920337e+03  \n",
       "std         1.292843    1.067272e+05  \n",
       "min         1.000000    2.670000e+02  \n",
       "25%         2.000000    4.267000e+03  \n",
       "50%         3.000000    5.438000e+03  \n",
       "75%         3.000000    7.317000e+03  \n",
       "max        43.000000    1.200000e+07  "
      ]
     },
     "execution_count": 240,
     "metadata": {},
     "output_type": "execute_result"
    }
   ],
   "source": [
    "df.describe(include='all')"
   ]
  },
  {
   "cell_type": "code",
   "execution_count": 241,
   "id": "9e733719-147c-4218-a096-271aeae2a1e9",
   "metadata": {},
   "outputs": [
    {
     "data": {
      "text/plain": [
       "<bound method DataFrame.notnull of                        location       size  total_sqft  bath   price  bhk  \\\n",
       "0      Electronic City Phase II      2 BHK      1056.0   2.0   39.07    2   \n",
       "1              Chikka Tirupathi  4 Bedroom      2600.0   5.0  120.00    4   \n",
       "2                   Uttarahalli      3 BHK      1440.0   2.0   62.00    3   \n",
       "3            Lingadheeranahalli      3 BHK      1521.0   3.0   95.00    3   \n",
       "4                      Kothanur      2 BHK      1200.0   2.0   51.00    2   \n",
       "...                         ...        ...         ...   ...     ...  ...   \n",
       "13195                Whitefield  5 Bedroom      3453.0   4.0  231.00    5   \n",
       "13196                     other      4 BHK      3600.0   5.0  400.00    4   \n",
       "13197     Raja Rajeshwari Nagar      2 BHK      1141.0   2.0   60.00    2   \n",
       "13198           Padmanabhanagar      4 BHK      4689.0   4.0  488.00    4   \n",
       "13199              Doddathoguru      1 BHK       550.0   1.0   17.00    1   \n",
       "\n",
       "       price_per_sqft  \n",
       "0                3699  \n",
       "1                4615  \n",
       "2                4305  \n",
       "3                6245  \n",
       "4                4250  \n",
       "...               ...  \n",
       "13195            6689  \n",
       "13196           11111  \n",
       "13197            5258  \n",
       "13198           10407  \n",
       "13199            3090  \n",
       "\n",
       "[13200 rows x 7 columns]>"
      ]
     },
     "execution_count": 241,
     "metadata": {},
     "output_type": "execute_result"
    }
   ],
   "source": [
    "df.notnull"
   ]
  },
  {
   "cell_type": "code",
   "execution_count": 242,
   "id": "1d4f35a8-c8fe-4713-b7d0-67f6de983a51",
   "metadata": {},
   "outputs": [
    {
     "data": {
      "text/plain": [
       "location          0\n",
       "size              0\n",
       "total_sqft        0\n",
       "bath              0\n",
       "price             0\n",
       "bhk               0\n",
       "price_per_sqft    0\n",
       "dtype: int64"
      ]
     },
     "execution_count": 242,
     "metadata": {},
     "output_type": "execute_result"
    }
   ],
   "source": [
    "df.isnull().sum()"
   ]
  },
  {
   "cell_type": "code",
   "execution_count": 243,
   "id": "16079cba-fd00-4bc9-924a-f339bf26f158",
   "metadata": {},
   "outputs": [
    {
     "data": {
      "text/plain": [
       "1049"
      ]
     },
     "execution_count": 243,
     "metadata": {},
     "output_type": "execute_result"
    }
   ],
   "source": [
    "df.duplicated().sum()"
   ]
  },
  {
   "cell_type": "markdown",
   "id": "1185a37d-5278-4d14-8a35-26e32843a8ea",
   "metadata": {},
   "source": [
    "<span style='color:red'>***Duplicates detected.***"
   ]
  },
  {
   "cell_type": "code",
   "execution_count": 244,
   "id": "bc7811c3-b3a8-4e5b-80a5-a3f80ff5d0f7",
   "metadata": {},
   "outputs": [],
   "source": [
    "df=df.drop_duplicates()"
   ]
  },
  {
   "cell_type": "code",
   "execution_count": 245,
   "id": "edd7d2f8-9528-44a4-bac8-b6244e5488eb",
   "metadata": {},
   "outputs": [
    {
     "data": {
      "text/html": [
       "<div>\n",
       "<style scoped>\n",
       "    .dataframe tbody tr th:only-of-type {\n",
       "        vertical-align: middle;\n",
       "    }\n",
       "\n",
       "    .dataframe tbody tr th {\n",
       "        vertical-align: top;\n",
       "    }\n",
       "\n",
       "    .dataframe thead th {\n",
       "        text-align: right;\n",
       "    }\n",
       "</style>\n",
       "<table border=\"1\" class=\"dataframe\">\n",
       "  <thead>\n",
       "    <tr style=\"text-align: right;\">\n",
       "      <th></th>\n",
       "      <th>location</th>\n",
       "      <th>size</th>\n",
       "      <th>total_sqft</th>\n",
       "      <th>bath</th>\n",
       "      <th>price</th>\n",
       "      <th>bhk</th>\n",
       "      <th>price_per_sqft</th>\n",
       "    </tr>\n",
       "  </thead>\n",
       "  <tbody>\n",
       "    <tr>\n",
       "      <th>0</th>\n",
       "      <td>Electronic City Phase II</td>\n",
       "      <td>2 BHK</td>\n",
       "      <td>1056.0</td>\n",
       "      <td>2.0</td>\n",
       "      <td>39.07</td>\n",
       "      <td>2</td>\n",
       "      <td>3699</td>\n",
       "    </tr>\n",
       "    <tr>\n",
       "      <th>1</th>\n",
       "      <td>Chikka Tirupathi</td>\n",
       "      <td>4 Bedroom</td>\n",
       "      <td>2600.0</td>\n",
       "      <td>5.0</td>\n",
       "      <td>120.00</td>\n",
       "      <td>4</td>\n",
       "      <td>4615</td>\n",
       "    </tr>\n",
       "    <tr>\n",
       "      <th>2</th>\n",
       "      <td>Uttarahalli</td>\n",
       "      <td>3 BHK</td>\n",
       "      <td>1440.0</td>\n",
       "      <td>2.0</td>\n",
       "      <td>62.00</td>\n",
       "      <td>3</td>\n",
       "      <td>4305</td>\n",
       "    </tr>\n",
       "    <tr>\n",
       "      <th>3</th>\n",
       "      <td>Lingadheeranahalli</td>\n",
       "      <td>3 BHK</td>\n",
       "      <td>1521.0</td>\n",
       "      <td>3.0</td>\n",
       "      <td>95.00</td>\n",
       "      <td>3</td>\n",
       "      <td>6245</td>\n",
       "    </tr>\n",
       "    <tr>\n",
       "      <th>4</th>\n",
       "      <td>Kothanur</td>\n",
       "      <td>2 BHK</td>\n",
       "      <td>1200.0</td>\n",
       "      <td>2.0</td>\n",
       "      <td>51.00</td>\n",
       "      <td>2</td>\n",
       "      <td>4250</td>\n",
       "    </tr>\n",
       "    <tr>\n",
       "      <th>...</th>\n",
       "      <td>...</td>\n",
       "      <td>...</td>\n",
       "      <td>...</td>\n",
       "      <td>...</td>\n",
       "      <td>...</td>\n",
       "      <td>...</td>\n",
       "      <td>...</td>\n",
       "    </tr>\n",
       "    <tr>\n",
       "      <th>13194</th>\n",
       "      <td>Green Glen Layout</td>\n",
       "      <td>3 BHK</td>\n",
       "      <td>1715.0</td>\n",
       "      <td>3.0</td>\n",
       "      <td>112.00</td>\n",
       "      <td>3</td>\n",
       "      <td>6530</td>\n",
       "    </tr>\n",
       "    <tr>\n",
       "      <th>13195</th>\n",
       "      <td>Whitefield</td>\n",
       "      <td>5 Bedroom</td>\n",
       "      <td>3453.0</td>\n",
       "      <td>4.0</td>\n",
       "      <td>231.00</td>\n",
       "      <td>5</td>\n",
       "      <td>6689</td>\n",
       "    </tr>\n",
       "    <tr>\n",
       "      <th>13196</th>\n",
       "      <td>other</td>\n",
       "      <td>4 BHK</td>\n",
       "      <td>3600.0</td>\n",
       "      <td>5.0</td>\n",
       "      <td>400.00</td>\n",
       "      <td>4</td>\n",
       "      <td>11111</td>\n",
       "    </tr>\n",
       "    <tr>\n",
       "      <th>13197</th>\n",
       "      <td>Raja Rajeshwari Nagar</td>\n",
       "      <td>2 BHK</td>\n",
       "      <td>1141.0</td>\n",
       "      <td>2.0</td>\n",
       "      <td>60.00</td>\n",
       "      <td>2</td>\n",
       "      <td>5258</td>\n",
       "    </tr>\n",
       "    <tr>\n",
       "      <th>13198</th>\n",
       "      <td>Padmanabhanagar</td>\n",
       "      <td>4 BHK</td>\n",
       "      <td>4689.0</td>\n",
       "      <td>4.0</td>\n",
       "      <td>488.00</td>\n",
       "      <td>4</td>\n",
       "      <td>10407</td>\n",
       "    </tr>\n",
       "  </tbody>\n",
       "</table>\n",
       "<p>12151 rows × 7 columns</p>\n",
       "</div>"
      ],
      "text/plain": [
       "                       location       size  total_sqft  bath   price  bhk  \\\n",
       "0      Electronic City Phase II      2 BHK      1056.0   2.0   39.07    2   \n",
       "1              Chikka Tirupathi  4 Bedroom      2600.0   5.0  120.00    4   \n",
       "2                   Uttarahalli      3 BHK      1440.0   2.0   62.00    3   \n",
       "3            Lingadheeranahalli      3 BHK      1521.0   3.0   95.00    3   \n",
       "4                      Kothanur      2 BHK      1200.0   2.0   51.00    2   \n",
       "...                         ...        ...         ...   ...     ...  ...   \n",
       "13194         Green Glen Layout      3 BHK      1715.0   3.0  112.00    3   \n",
       "13195                Whitefield  5 Bedroom      3453.0   4.0  231.00    5   \n",
       "13196                     other      4 BHK      3600.0   5.0  400.00    4   \n",
       "13197     Raja Rajeshwari Nagar      2 BHK      1141.0   2.0   60.00    2   \n",
       "13198           Padmanabhanagar      4 BHK      4689.0   4.0  488.00    4   \n",
       "\n",
       "       price_per_sqft  \n",
       "0                3699  \n",
       "1                4615  \n",
       "2                4305  \n",
       "3                6245  \n",
       "4                4250  \n",
       "...               ...  \n",
       "13194            6530  \n",
       "13195            6689  \n",
       "13196           11111  \n",
       "13197            5258  \n",
       "13198           10407  \n",
       "\n",
       "[12151 rows x 7 columns]"
      ]
     },
     "execution_count": 245,
     "metadata": {},
     "output_type": "execute_result"
    }
   ],
   "source": [
    "df"
   ]
  },
  {
   "cell_type": "code",
   "execution_count": 246,
   "id": "1467b397-ceb8-47d2-b2d7-00a9fc59a380",
   "metadata": {},
   "outputs": [
    {
     "data": {
      "text/plain": [
       "(12151, 7)"
      ]
     },
     "execution_count": 246,
     "metadata": {},
     "output_type": "execute_result"
    }
   ],
   "source": [
    "df.shape"
   ]
  },
  {
   "cell_type": "markdown",
   "id": "398f931f-da82-4aa1-940e-f2ea9a4713b7",
   "metadata": {},
   "source": [
    "<span style=\"color:red\">***Detecting the outliers, removing it using different methods.***"
   ]
  },
  {
   "cell_type": "markdown",
   "id": "4cb8e4ba-ce9f-47f0-869f-7ce4c5455c5d",
   "metadata": {},
   "source": [
    "## 1.MEAN METHOD"
   ]
  },
  {
   "cell_type": "code",
   "execution_count": 247,
   "id": "262a79d4-e9f0-4280-9bbf-e861353cf986",
   "metadata": {},
   "outputs": [
    {
     "data": {
      "text/plain": [
       "267"
      ]
     },
     "execution_count": 247,
     "metadata": {},
     "output_type": "execute_result"
    }
   ],
   "source": [
    "df.price_per_sqft.min()"
   ]
  },
  {
   "cell_type": "code",
   "execution_count": 248,
   "id": "aadc81c6-3412-42fa-9527-1ce8c7f3fcd2",
   "metadata": {},
   "outputs": [
    {
     "data": {
      "text/plain": [
       "12000000"
      ]
     },
     "execution_count": 248,
     "metadata": {},
     "output_type": "execute_result"
    }
   ],
   "source": [
    "df.price_per_sqft.max()"
   ]
  },
  {
   "cell_type": "code",
   "execution_count": 249,
   "id": "7964dce3-e2bd-4ed0-9ddb-454aa465ae4b",
   "metadata": {},
   "outputs": [
    {
     "data": {
      "text/plain": [
       "8132.641840177763"
      ]
     },
     "execution_count": 249,
     "metadata": {},
     "output_type": "execute_result"
    }
   ],
   "source": [
    "df.price_per_sqft.mean()"
   ]
  },
  {
   "cell_type": "code",
   "execution_count": 250,
   "id": "19a57dfb-7813-4152-a6d4-cee1446c352c",
   "metadata": {},
   "outputs": [
    {
     "data": {
      "text/plain": [
       "5500.0"
      ]
     },
     "execution_count": 250,
     "metadata": {},
     "output_type": "execute_result"
    }
   ],
   "source": [
    "df.price_per_sqft.median()"
   ]
  },
  {
   "cell_type": "markdown",
   "id": "b30672c7-4efd-41aa-b68f-9979066142eb",
   "metadata": {},
   "source": [
    "<span style='color:blue'>***There is a significant difference between mean and median. Indicating presence of outliers.***"
   ]
  },
  {
   "cell_type": "code",
   "execution_count": 251,
   "id": "7d7a05dc-be13-4410-8cd0-a62a90c51fa1",
   "metadata": {},
   "outputs": [
    {
     "name": "stderr",
     "output_type": "stream",
     "text": [
      "C:\\Users\\deepz\\AppData\\Local\\Temp\\ipykernel_10800\\3254988551.py:1: UserWarning: \n",
      "\n",
      "`distplot` is a deprecated function and will be removed in seaborn v0.14.0.\n",
      "\n",
      "Please adapt your code to use either `displot` (a figure-level function with\n",
      "similar flexibility) or `histplot` (an axes-level function for histograms).\n",
      "\n",
      "For a guide to updating your code to use the new functions, please see\n",
      "https://gist.github.com/mwaskom/de44147ed2974457ad6372750bbe5751\n",
      "\n",
      "  sns.distplot(df['price_per_sqft'],color='r')\n"
     ]
    },
    {
     "data": {
      "text/plain": [
       "Text(0.5, 1.0, 'Distribution of price per sqft with Outliers')"
      ]
     },
     "execution_count": 251,
     "metadata": {},
     "output_type": "execute_result"
    },
    {
     "data": {
      "image/png": "[encoded data removed]",
      "text/plain": [
       "<Figure size 640x480 with 1 Axes>"
      ]
     },
     "metadata": {},
     "output_type": "display_data"
    }
   ],
   "source": [
    "sns.distplot(df['price_per_sqft'],color='r')\n",
    "plt.title('Distribution of price per sqft with Outliers',color='r')"
   ]
  },
  {
   "cell_type": "code",
   "execution_count": 252,
   "id": "c026261c-497a-44b2-916c-b6710e2b9847",
   "metadata": {},
   "outputs": [
    {
     "data": {
      "text/plain": [
       "<Axes: ylabel='price_per_sqft'>"
      ]
     },
     "execution_count": 252,
     "metadata": {},
     "output_type": "execute_result"
    },
    {
     "data": {
      "image/png": "[encoded data removed]",
      "text/plain": [
       "<Figure size 640x480 with 1 Axes>"
      ]
     },
     "metadata": {},
     "output_type": "display_data"
    }
   ],
   "source": [
    "sns.boxplot(df['price_per_sqft'])"
   ]
  },
  {
   "cell_type": "markdown",
   "id": "ca050ff1-eb70-4956-aff9-f9f3490d9294",
   "metadata": {},
   "source": [
    "<span style='color:green'>***Quantile() to find out the percentiles.***"
   ]
  },
  {
   "cell_type": "code",
   "execution_count": 253,
   "id": "099de0e0-bded-4f8a-a71c-27cd74146ee6",
   "metadata": {},
   "outputs": [
    {
     "data": {
      "text/plain": [
       "0.05     3150.0\n",
       "0.10     3513.0\n",
       "0.25     4312.0\n",
       "0.50     5500.0\n",
       "0.75     7461.0\n",
       "0.90    11904.0\n",
       "0.92    13129.0\n",
       "0.94    14695.0\n",
       "0.96    16666.0\n",
       "0.98    20000.0\n",
       "0.99    24000.0\n",
       "Name: price_per_sqft, dtype: float64"
      ]
     },
     "execution_count": 253,
     "metadata": {},
     "output_type": "execute_result"
    }
   ],
   "source": [
    "df.price_per_sqft.quantile([0.05,0.1,0.25,0.5,0.75,0.90,0.92,0.94,0.96,0.98,0.99])"
   ]
  },
  {
   "cell_type": "markdown",
   "id": "c558f76c-8e11-4322-bd42-9dda488c2b44",
   "metadata": {},
   "source": [
    "<span style='color:magenta'>***There is an significant variation between 98th and 99th percentile, indicating presence of outliers.***"
   ]
  },
  {
   "cell_type": "code",
   "execution_count": 254,
   "id": "8807f866-f934-4726-a2cc-e751d274a299",
   "metadata": {},
   "outputs": [
    {
     "data": {
      "text/html": [
       "<div>\n",
       "<style scoped>\n",
       "    .dataframe tbody tr th:only-of-type {\n",
       "        vertical-align: middle;\n",
       "    }\n",
       "\n",
       "    .dataframe tbody tr th {\n",
       "        vertical-align: top;\n",
       "    }\n",
       "\n",
       "    .dataframe thead th {\n",
       "        text-align: right;\n",
       "    }\n",
       "</style>\n",
       "<table border=\"1\" class=\"dataframe\">\n",
       "  <thead>\n",
       "    <tr style=\"text-align: right;\">\n",
       "      <th></th>\n",
       "      <th>location</th>\n",
       "      <th>size</th>\n",
       "      <th>total_sqft</th>\n",
       "      <th>bath</th>\n",
       "      <th>price</th>\n",
       "      <th>bhk</th>\n",
       "      <th>price_per_sqft</th>\n",
       "    </tr>\n",
       "  </thead>\n",
       "  <tbody>\n",
       "    <tr>\n",
       "      <th>7</th>\n",
       "      <td>Rajaji Nagar</td>\n",
       "      <td>4 BHK</td>\n",
       "      <td>3300.0</td>\n",
       "      <td>4.0</td>\n",
       "      <td>600.0</td>\n",
       "      <td>4</td>\n",
       "      <td>18181</td>\n",
       "    </tr>\n",
       "    <tr>\n",
       "      <th>9</th>\n",
       "      <td>other</td>\n",
       "      <td>6 Bedroom</td>\n",
       "      <td>1020.0</td>\n",
       "      <td>6.0</td>\n",
       "      <td>370.0</td>\n",
       "      <td>6</td>\n",
       "      <td>36274</td>\n",
       "    </tr>\n",
       "    <tr>\n",
       "      <th>45</th>\n",
       "      <td>HSR Layout</td>\n",
       "      <td>8 Bedroom</td>\n",
       "      <td>600.0</td>\n",
       "      <td>9.0</td>\n",
       "      <td>200.0</td>\n",
       "      <td>8</td>\n",
       "      <td>33333</td>\n",
       "    </tr>\n",
       "    <tr>\n",
       "      <th>48</th>\n",
       "      <td>KR Puram</td>\n",
       "      <td>2 Bedroom</td>\n",
       "      <td>800.0</td>\n",
       "      <td>1.0</td>\n",
       "      <td>130.0</td>\n",
       "      <td>2</td>\n",
       "      <td>16250</td>\n",
       "    </tr>\n",
       "    <tr>\n",
       "      <th>69</th>\n",
       "      <td>other</td>\n",
       "      <td>3 Bedroom</td>\n",
       "      <td>500.0</td>\n",
       "      <td>3.0</td>\n",
       "      <td>100.0</td>\n",
       "      <td>3</td>\n",
       "      <td>20000</td>\n",
       "    </tr>\n",
       "    <tr>\n",
       "      <th>...</th>\n",
       "      <td>...</td>\n",
       "      <td>...</td>\n",
       "      <td>...</td>\n",
       "      <td>...</td>\n",
       "      <td>...</td>\n",
       "      <td>...</td>\n",
       "      <td>...</td>\n",
       "    </tr>\n",
       "    <tr>\n",
       "      <th>13081</th>\n",
       "      <td>other</td>\n",
       "      <td>6 Bedroom</td>\n",
       "      <td>8000.0</td>\n",
       "      <td>6.0</td>\n",
       "      <td>2800.0</td>\n",
       "      <td>6</td>\n",
       "      <td>35000</td>\n",
       "    </tr>\n",
       "    <tr>\n",
       "      <th>13097</th>\n",
       "      <td>other</td>\n",
       "      <td>1 BHK</td>\n",
       "      <td>250.0</td>\n",
       "      <td>2.0</td>\n",
       "      <td>40.0</td>\n",
       "      <td>1</td>\n",
       "      <td>16000</td>\n",
       "    </tr>\n",
       "    <tr>\n",
       "      <th>13141</th>\n",
       "      <td>other</td>\n",
       "      <td>3 Bedroom</td>\n",
       "      <td>2000.0</td>\n",
       "      <td>2.0</td>\n",
       "      <td>360.0</td>\n",
       "      <td>3</td>\n",
       "      <td>18000</td>\n",
       "    </tr>\n",
       "    <tr>\n",
       "      <th>13142</th>\n",
       "      <td>other</td>\n",
       "      <td>2 BHK</td>\n",
       "      <td>1140.0</td>\n",
       "      <td>1.0</td>\n",
       "      <td>185.0</td>\n",
       "      <td>2</td>\n",
       "      <td>16228</td>\n",
       "    </tr>\n",
       "    <tr>\n",
       "      <th>13185</th>\n",
       "      <td>Hulimavu</td>\n",
       "      <td>1 BHK</td>\n",
       "      <td>500.0</td>\n",
       "      <td>1.0</td>\n",
       "      <td>220.0</td>\n",
       "      <td>1</td>\n",
       "      <td>44000</td>\n",
       "    </tr>\n",
       "  </tbody>\n",
       "</table>\n",
       "<p>607 rows × 7 columns</p>\n",
       "</div>"
      ],
      "text/plain": [
       "           location       size  total_sqft  bath   price  bhk  price_per_sqft\n",
       "7      Rajaji Nagar      4 BHK      3300.0   4.0   600.0    4           18181\n",
       "9             other  6 Bedroom      1020.0   6.0   370.0    6           36274\n",
       "45       HSR Layout  8 Bedroom       600.0   9.0   200.0    8           33333\n",
       "48         KR Puram  2 Bedroom       800.0   1.0   130.0    2           16250\n",
       "69            other  3 Bedroom       500.0   3.0   100.0    3           20000\n",
       "...             ...        ...         ...   ...     ...  ...             ...\n",
       "13081         other  6 Bedroom      8000.0   6.0  2800.0    6           35000\n",
       "13097         other      1 BHK       250.0   2.0    40.0    1           16000\n",
       "13141         other  3 Bedroom      2000.0   2.0   360.0    3           18000\n",
       "13142         other      2 BHK      1140.0   1.0   185.0    2           16228\n",
       "13185      Hulimavu      1 BHK       500.0   1.0   220.0    1           44000\n",
       "\n",
       "[607 rows x 7 columns]"
      ]
     },
     "execution_count": 254,
     "metadata": {},
     "output_type": "execute_result"
    }
   ],
   "source": [
    "df[df.price_per_sqft>df.price_per_sqft.quantile(0.95)] #outliers"
   ]
  },
  {
   "cell_type": "code",
   "execution_count": 255,
   "id": "02fa9192-6bb8-42b6-9b88-dccd0e635ab9",
   "metadata": {},
   "outputs": [
    {
     "data": {
      "text/html": [
       "<div>\n",
       "<style scoped>\n",
       "    .dataframe tbody tr th:only-of-type {\n",
       "        vertical-align: middle;\n",
       "    }\n",
       "\n",
       "    .dataframe tbody tr th {\n",
       "        vertical-align: top;\n",
       "    }\n",
       "\n",
       "    .dataframe thead th {\n",
       "        text-align: right;\n",
       "    }\n",
       "</style>\n",
       "<table border=\"1\" class=\"dataframe\">\n",
       "  <thead>\n",
       "    <tr style=\"text-align: right;\">\n",
       "      <th></th>\n",
       "      <th>location</th>\n",
       "      <th>size</th>\n",
       "      <th>total_sqft</th>\n",
       "      <th>bath</th>\n",
       "      <th>price</th>\n",
       "      <th>bhk</th>\n",
       "      <th>price_per_sqft</th>\n",
       "    </tr>\n",
       "  </thead>\n",
       "  <tbody>\n",
       "    <tr>\n",
       "      <th>0</th>\n",
       "      <td>Electronic City Phase II</td>\n",
       "      <td>2 BHK</td>\n",
       "      <td>1056.0</td>\n",
       "      <td>2.0</td>\n",
       "      <td>39.07</td>\n",
       "      <td>2</td>\n",
       "      <td>3699</td>\n",
       "    </tr>\n",
       "    <tr>\n",
       "      <th>1</th>\n",
       "      <td>Chikka Tirupathi</td>\n",
       "      <td>4 Bedroom</td>\n",
       "      <td>2600.0</td>\n",
       "      <td>5.0</td>\n",
       "      <td>120.00</td>\n",
       "      <td>4</td>\n",
       "      <td>4615</td>\n",
       "    </tr>\n",
       "    <tr>\n",
       "      <th>2</th>\n",
       "      <td>Uttarahalli</td>\n",
       "      <td>3 BHK</td>\n",
       "      <td>1440.0</td>\n",
       "      <td>2.0</td>\n",
       "      <td>62.00</td>\n",
       "      <td>3</td>\n",
       "      <td>4305</td>\n",
       "    </tr>\n",
       "    <tr>\n",
       "      <th>3</th>\n",
       "      <td>Lingadheeranahalli</td>\n",
       "      <td>3 BHK</td>\n",
       "      <td>1521.0</td>\n",
       "      <td>3.0</td>\n",
       "      <td>95.00</td>\n",
       "      <td>3</td>\n",
       "      <td>6245</td>\n",
       "    </tr>\n",
       "    <tr>\n",
       "      <th>4</th>\n",
       "      <td>Kothanur</td>\n",
       "      <td>2 BHK</td>\n",
       "      <td>1200.0</td>\n",
       "      <td>2.0</td>\n",
       "      <td>51.00</td>\n",
       "      <td>2</td>\n",
       "      <td>4250</td>\n",
       "    </tr>\n",
       "    <tr>\n",
       "      <th>...</th>\n",
       "      <td>...</td>\n",
       "      <td>...</td>\n",
       "      <td>...</td>\n",
       "      <td>...</td>\n",
       "      <td>...</td>\n",
       "      <td>...</td>\n",
       "      <td>...</td>\n",
       "    </tr>\n",
       "    <tr>\n",
       "      <th>13194</th>\n",
       "      <td>Green Glen Layout</td>\n",
       "      <td>3 BHK</td>\n",
       "      <td>1715.0</td>\n",
       "      <td>3.0</td>\n",
       "      <td>112.00</td>\n",
       "      <td>3</td>\n",
       "      <td>6530</td>\n",
       "    </tr>\n",
       "    <tr>\n",
       "      <th>13195</th>\n",
       "      <td>Whitefield</td>\n",
       "      <td>5 Bedroom</td>\n",
       "      <td>3453.0</td>\n",
       "      <td>4.0</td>\n",
       "      <td>231.00</td>\n",
       "      <td>5</td>\n",
       "      <td>6689</td>\n",
       "    </tr>\n",
       "    <tr>\n",
       "      <th>13196</th>\n",
       "      <td>other</td>\n",
       "      <td>4 BHK</td>\n",
       "      <td>3600.0</td>\n",
       "      <td>5.0</td>\n",
       "      <td>400.00</td>\n",
       "      <td>4</td>\n",
       "      <td>11111</td>\n",
       "    </tr>\n",
       "    <tr>\n",
       "      <th>13197</th>\n",
       "      <td>Raja Rajeshwari Nagar</td>\n",
       "      <td>2 BHK</td>\n",
       "      <td>1141.0</td>\n",
       "      <td>2.0</td>\n",
       "      <td>60.00</td>\n",
       "      <td>2</td>\n",
       "      <td>5258</td>\n",
       "    </tr>\n",
       "    <tr>\n",
       "      <th>13198</th>\n",
       "      <td>Padmanabhanagar</td>\n",
       "      <td>4 BHK</td>\n",
       "      <td>4689.0</td>\n",
       "      <td>4.0</td>\n",
       "      <td>488.00</td>\n",
       "      <td>4</td>\n",
       "      <td>10407</td>\n",
       "    </tr>\n",
       "  </tbody>\n",
       "</table>\n",
       "<p>11542 rows × 7 columns</p>\n",
       "</div>"
      ],
      "text/plain": [
       "                       location       size  total_sqft  bath   price  bhk  \\\n",
       "0      Electronic City Phase II      2 BHK      1056.0   2.0   39.07    2   \n",
       "1              Chikka Tirupathi  4 Bedroom      2600.0   5.0  120.00    4   \n",
       "2                   Uttarahalli      3 BHK      1440.0   2.0   62.00    3   \n",
       "3            Lingadheeranahalli      3 BHK      1521.0   3.0   95.00    3   \n",
       "4                      Kothanur      2 BHK      1200.0   2.0   51.00    2   \n",
       "...                         ...        ...         ...   ...     ...  ...   \n",
       "13194         Green Glen Layout      3 BHK      1715.0   3.0  112.00    3   \n",
       "13195                Whitefield  5 Bedroom      3453.0   4.0  231.00    5   \n",
       "13196                     other      4 BHK      3600.0   5.0  400.00    4   \n",
       "13197     Raja Rajeshwari Nagar      2 BHK      1141.0   2.0   60.00    2   \n",
       "13198           Padmanabhanagar      4 BHK      4689.0   4.0  488.00    4   \n",
       "\n",
       "       price_per_sqft  \n",
       "0                3699  \n",
       "1                4615  \n",
       "2                4305  \n",
       "3                6245  \n",
       "4                4250  \n",
       "...               ...  \n",
       "13194            6530  \n",
       "13195            6689  \n",
       "13196           11111  \n",
       "13197            5258  \n",
       "13198           10407  \n",
       "\n",
       "[11542 rows x 7 columns]"
      ]
     },
     "execution_count": 255,
     "metadata": {},
     "output_type": "execute_result"
    }
   ],
   "source": [
    "#Data without outliers\n",
    "df1=df[df.price_per_sqft<df.price_per_sqft.quantile(0.95)]\n",
    "df1"
   ]
  },
  {
   "cell_type": "code",
   "execution_count": 256,
   "id": "293678db-858f-433e-b137-097a7a01aeb5",
   "metadata": {},
   "outputs": [
    {
     "name": "stderr",
     "output_type": "stream",
     "text": [
      "C:\\Users\\deepz\\AppData\\Local\\Temp\\ipykernel_10800\\2713776560.py:1: UserWarning: \n",
      "\n",
      "`distplot` is a deprecated function and will be removed in seaborn v0.14.0.\n",
      "\n",
      "Please adapt your code to use either `displot` (a figure-level function with\n",
      "similar flexibility) or `histplot` (an axes-level function for histograms).\n",
      "\n",
      "For a guide to updating your code to use the new functions, please see\n",
      "https://gist.github.com/mwaskom/de44147ed2974457ad6372750bbe5751\n",
      "\n",
      "  sns.distplot(df1['price_per_sqft'],color='r')\n"
     ]
    },
    {
     "data": {
      "text/plain": [
       "Text(0.5, 1.0, 'Distribution of Price per Sqft without outliers')"
      ]
     },
     "execution_count": 256,
     "metadata": {},
     "output_type": "execute_result"
    },
    {
     "data": {
      "image/png": "[encoded data removed]",
      "text/plain": [
       "<Figure size 640x480 with 1 Axes>"
      ]
     },
     "metadata": {},
     "output_type": "display_data"
    }
   ],
   "source": [
    "sns.distplot(df1['price_per_sqft'],color='r')\n",
    "plt.title('Distribution of Price per Sqft without outliers',color='r')"
   ]
  },
  {
   "cell_type": "code",
   "execution_count": 257,
   "id": "864249fc-5efd-4f06-b66f-a7bf86cc1a5d",
   "metadata": {},
   "outputs": [
    {
     "data": {
      "text/plain": [
       "<Axes: ylabel='price_per_sqft'>"
      ]
     },
     "execution_count": 257,
     "metadata": {},
     "output_type": "execute_result"
    },
    {
     "data": {
      "image/png": "[encoded data removed]",
      "text/plain": [
       "<Figure size 640x480 with 1 Axes>"
      ]
     },
     "metadata": {},
     "output_type": "display_data"
    }
   ],
   "source": [
    "sns.boxplot(df1['price_per_sqft'])"
   ]
  },
  {
   "cell_type": "code",
   "execution_count": 258,
   "id": "037485c6-8368-41f5-84f5-d5f6c1faaa5b",
   "metadata": {},
   "outputs": [
    {
     "name": "stdout",
     "output_type": "stream",
     "text": [
      "Before removing outliers: 12151\n",
      "After removing outliers: 11542\n",
      "Outliers: 609\n"
     ]
    }
   ],
   "source": [
    "print(\"Before removing outliers:\",len(df))\n",
    "print(\"After removing outliers:\",len(df1))\n",
    "print(\"Outliers:\",len(df)-len(df1))"
   ]
  },
  {
   "cell_type": "markdown",
   "id": "41bf63b3-e8cc-4e95-97d3-481a732833c7",
   "metadata": {},
   "source": [
    "<span style='color:indigo'>***After removing the ouliers using the mean function,we have achieved a bell shaped curve in the distplot, and we have removed 609 ouliers from the dataset.***"
   ]
  },
  {
   "cell_type": "markdown",
   "id": "a6dff957-7749-41cd-8622-7e8fdc77a183",
   "metadata": {},
   "source": [
    "## 2.PERCENTILE METHOD"
   ]
  },
  {
   "cell_type": "code",
   "execution_count": 259,
   "id": "3fe6e7b1-3460-482c-8239-98066a87eddc",
   "metadata": {},
   "outputs": [],
   "source": [
    "upper_limit=df['price_per_sqft'].quantile(0.95)\n",
    "lower_limit=df['price_per_sqft'].quantile(0.05)"
   ]
  },
  {
   "cell_type": "code",
   "execution_count": 260,
   "id": "6f6085de-91ec-4c28-ae9c-744d1381d1ed",
   "metadata": {},
   "outputs": [
    {
     "name": "stdout",
     "output_type": "stream",
     "text": [
      "Upper Limit: 15600.0\n",
      "Lower Limit: 3150.0\n"
     ]
    }
   ],
   "source": [
    "print(\"Upper Limit:\",upper_limit)\n",
    "print(\"Lower Limit:\",lower_limit)"
   ]
  },
  {
   "cell_type": "code",
   "execution_count": 261,
   "id": "eba212c4-f0e7-4e1e-b6c5-9dec0a37585b",
   "metadata": {},
   "outputs": [
    {
     "name": "stderr",
     "output_type": "stream",
     "text": [
      "C:\\Users\\deepz\\AppData\\Local\\Temp\\ipykernel_10800\\3611621828.py:1: UserWarning: \n",
      "\n",
      "`distplot` is a deprecated function and will be removed in seaborn v0.14.0.\n",
      "\n",
      "Please adapt your code to use either `displot` (a figure-level function with\n",
      "similar flexibility) or `histplot` (an axes-level function for histograms).\n",
      "\n",
      "For a guide to updating your code to use the new functions, please see\n",
      "https://gist.github.com/mwaskom/de44147ed2974457ad6372750bbe5751\n",
      "\n",
      "  sns.distplot(df['price_per_sqft'],color='g')\n"
     ]
    },
    {
     "data": {
      "text/plain": [
       "Text(0.5, 1.0, 'Distribution of Price Per Sqft with Outliers')"
      ]
     },
     "execution_count": 261,
     "metadata": {},
     "output_type": "execute_result"
    },
    {
     "data": {
      "image/png": "[encoded data removed]",
      "text/plain": [
       "<Figure size 640x480 with 1 Axes>"
      ]
     },
     "metadata": {},
     "output_type": "display_data"
    }
   ],
   "source": [
    "sns.distplot(df['price_per_sqft'],color='g')\n",
    "plt.title('Distribution of Price Per Sqft with Outliers',color='g')"
   ]
  },
  {
   "cell_type": "code",
   "execution_count": 262,
   "id": "0f67eca7-9dd8-47ff-b140-192b47642d66",
   "metadata": {},
   "outputs": [
    {
     "data": {
      "text/plain": [
       "<Axes: ylabel='price_per_sqft'>"
      ]
     },
     "execution_count": 262,
     "metadata": {},
     "output_type": "execute_result"
    },
    {
     "data": {
      "image/png": "[encoded data removed]",
      "text/plain": [
       "<Figure size 640x480 with 1 Axes>"
      ]
     },
     "metadata": {},
     "output_type": "display_data"
    }
   ],
   "source": [
    "sns.boxplot(df['price_per_sqft'])"
   ]
  },
  {
   "cell_type": "code",
   "execution_count": 263,
   "id": "4ac61f0d-27c9-48b7-a5a0-d5f0e5967cc7",
   "metadata": {},
   "outputs": [
    {
     "data": {
      "text/html": [
       "<div>\n",
       "<style scoped>\n",
       "    .dataframe tbody tr th:only-of-type {\n",
       "        vertical-align: middle;\n",
       "    }\n",
       "\n",
       "    .dataframe tbody tr th {\n",
       "        vertical-align: top;\n",
       "    }\n",
       "\n",
       "    .dataframe thead th {\n",
       "        text-align: right;\n",
       "    }\n",
       "</style>\n",
       "<table border=\"1\" class=\"dataframe\">\n",
       "  <thead>\n",
       "    <tr style=\"text-align: right;\">\n",
       "      <th></th>\n",
       "      <th>location</th>\n",
       "      <th>size</th>\n",
       "      <th>total_sqft</th>\n",
       "      <th>bath</th>\n",
       "      <th>price</th>\n",
       "      <th>bhk</th>\n",
       "      <th>price_per_sqft</th>\n",
       "    </tr>\n",
       "  </thead>\n",
       "  <tbody>\n",
       "    <tr>\n",
       "      <th>7</th>\n",
       "      <td>Rajaji Nagar</td>\n",
       "      <td>4 BHK</td>\n",
       "      <td>3300.0</td>\n",
       "      <td>4.0</td>\n",
       "      <td>600.00</td>\n",
       "      <td>4</td>\n",
       "      <td>18181</td>\n",
       "    </tr>\n",
       "    <tr>\n",
       "      <th>9</th>\n",
       "      <td>other</td>\n",
       "      <td>6 Bedroom</td>\n",
       "      <td>1020.0</td>\n",
       "      <td>6.0</td>\n",
       "      <td>370.00</td>\n",
       "      <td>6</td>\n",
       "      <td>36274</td>\n",
       "    </tr>\n",
       "    <tr>\n",
       "      <th>20</th>\n",
       "      <td>Kengeri</td>\n",
       "      <td>1 BHK</td>\n",
       "      <td>600.0</td>\n",
       "      <td>1.0</td>\n",
       "      <td>15.00</td>\n",
       "      <td>1</td>\n",
       "      <td>2500</td>\n",
       "    </tr>\n",
       "    <tr>\n",
       "      <th>41</th>\n",
       "      <td>Sarjapur  Road</td>\n",
       "      <td>3 BHK</td>\n",
       "      <td>1254.0</td>\n",
       "      <td>3.0</td>\n",
       "      <td>38.00</td>\n",
       "      <td>3</td>\n",
       "      <td>3030</td>\n",
       "    </tr>\n",
       "    <tr>\n",
       "      <th>45</th>\n",
       "      <td>HSR Layout</td>\n",
       "      <td>8 Bedroom</td>\n",
       "      <td>600.0</td>\n",
       "      <td>9.0</td>\n",
       "      <td>200.00</td>\n",
       "      <td>8</td>\n",
       "      <td>33333</td>\n",
       "    </tr>\n",
       "    <tr>\n",
       "      <th>...</th>\n",
       "      <td>...</td>\n",
       "      <td>...</td>\n",
       "      <td>...</td>\n",
       "      <td>...</td>\n",
       "      <td>...</td>\n",
       "      <td>...</td>\n",
       "      <td>...</td>\n",
       "    </tr>\n",
       "    <tr>\n",
       "      <th>13121</th>\n",
       "      <td>Electronic City Phase II</td>\n",
       "      <td>3 BHK</td>\n",
       "      <td>1651.0</td>\n",
       "      <td>3.0</td>\n",
       "      <td>49.53</td>\n",
       "      <td>3</td>\n",
       "      <td>3000</td>\n",
       "    </tr>\n",
       "    <tr>\n",
       "      <th>13141</th>\n",
       "      <td>other</td>\n",
       "      <td>3 Bedroom</td>\n",
       "      <td>2000.0</td>\n",
       "      <td>2.0</td>\n",
       "      <td>360.00</td>\n",
       "      <td>3</td>\n",
       "      <td>18000</td>\n",
       "    </tr>\n",
       "    <tr>\n",
       "      <th>13142</th>\n",
       "      <td>other</td>\n",
       "      <td>2 BHK</td>\n",
       "      <td>1140.0</td>\n",
       "      <td>1.0</td>\n",
       "      <td>185.00</td>\n",
       "      <td>2</td>\n",
       "      <td>16228</td>\n",
       "    </tr>\n",
       "    <tr>\n",
       "      <th>13155</th>\n",
       "      <td>Kothannur</td>\n",
       "      <td>4 Bedroom</td>\n",
       "      <td>1600.0</td>\n",
       "      <td>4.0</td>\n",
       "      <td>45.00</td>\n",
       "      <td>4</td>\n",
       "      <td>2812</td>\n",
       "    </tr>\n",
       "    <tr>\n",
       "      <th>13185</th>\n",
       "      <td>Hulimavu</td>\n",
       "      <td>1 BHK</td>\n",
       "      <td>500.0</td>\n",
       "      <td>1.0</td>\n",
       "      <td>220.00</td>\n",
       "      <td>1</td>\n",
       "      <td>44000</td>\n",
       "    </tr>\n",
       "  </tbody>\n",
       "</table>\n",
       "<p>1211 rows × 7 columns</p>\n",
       "</div>"
      ],
      "text/plain": [
       "                       location       size  total_sqft  bath   price  bhk  \\\n",
       "7                  Rajaji Nagar      4 BHK      3300.0   4.0  600.00    4   \n",
       "9                         other  6 Bedroom      1020.0   6.0  370.00    6   \n",
       "20                      Kengeri      1 BHK       600.0   1.0   15.00    1   \n",
       "41               Sarjapur  Road      3 BHK      1254.0   3.0   38.00    3   \n",
       "45                   HSR Layout  8 Bedroom       600.0   9.0  200.00    8   \n",
       "...                         ...        ...         ...   ...     ...  ...   \n",
       "13121  Electronic City Phase II      3 BHK      1651.0   3.0   49.53    3   \n",
       "13141                     other  3 Bedroom      2000.0   2.0  360.00    3   \n",
       "13142                     other      2 BHK      1140.0   1.0  185.00    2   \n",
       "13155                 Kothannur  4 Bedroom      1600.0   4.0   45.00    4   \n",
       "13185                  Hulimavu      1 BHK       500.0   1.0  220.00    1   \n",
       "\n",
       "       price_per_sqft  \n",
       "7               18181  \n",
       "9               36274  \n",
       "20               2500  \n",
       "41               3030  \n",
       "45              33333  \n",
       "...               ...  \n",
       "13121            3000  \n",
       "13141           18000  \n",
       "13142           16228  \n",
       "13155            2812  \n",
       "13185           44000  \n",
       "\n",
       "[1211 rows x 7 columns]"
      ]
     },
     "execution_count": 263,
     "metadata": {},
     "output_type": "execute_result"
    }
   ],
   "source": [
    "#finding outliers\n",
    "df.loc[(df['price_per_sqft']>upper_limit) | (df['price_per_sqft']<lower_limit)]"
   ]
  },
  {
   "cell_type": "code",
   "execution_count": 264,
   "id": "96962bc6-7e30-4a21-8f59-18055c00c5fc",
   "metadata": {},
   "outputs": [
    {
     "data": {
      "text/html": [
       "<div>\n",
       "<style scoped>\n",
       "    .dataframe tbody tr th:only-of-type {\n",
       "        vertical-align: middle;\n",
       "    }\n",
       "\n",
       "    .dataframe tbody tr th {\n",
       "        vertical-align: top;\n",
       "    }\n",
       "\n",
       "    .dataframe thead th {\n",
       "        text-align: right;\n",
       "    }\n",
       "</style>\n",
       "<table border=\"1\" class=\"dataframe\">\n",
       "  <thead>\n",
       "    <tr style=\"text-align: right;\">\n",
       "      <th></th>\n",
       "      <th>location</th>\n",
       "      <th>size</th>\n",
       "      <th>total_sqft</th>\n",
       "      <th>bath</th>\n",
       "      <th>price</th>\n",
       "      <th>bhk</th>\n",
       "      <th>price_per_sqft</th>\n",
       "    </tr>\n",
       "  </thead>\n",
       "  <tbody>\n",
       "    <tr>\n",
       "      <th>0</th>\n",
       "      <td>Electronic City Phase II</td>\n",
       "      <td>2 BHK</td>\n",
       "      <td>1056.0</td>\n",
       "      <td>2.0</td>\n",
       "      <td>39.07</td>\n",
       "      <td>2</td>\n",
       "      <td>3699</td>\n",
       "    </tr>\n",
       "    <tr>\n",
       "      <th>1</th>\n",
       "      <td>Chikka Tirupathi</td>\n",
       "      <td>4 Bedroom</td>\n",
       "      <td>2600.0</td>\n",
       "      <td>5.0</td>\n",
       "      <td>120.00</td>\n",
       "      <td>4</td>\n",
       "      <td>4615</td>\n",
       "    </tr>\n",
       "    <tr>\n",
       "      <th>2</th>\n",
       "      <td>Uttarahalli</td>\n",
       "      <td>3 BHK</td>\n",
       "      <td>1440.0</td>\n",
       "      <td>2.0</td>\n",
       "      <td>62.00</td>\n",
       "      <td>3</td>\n",
       "      <td>4305</td>\n",
       "    </tr>\n",
       "    <tr>\n",
       "      <th>3</th>\n",
       "      <td>Lingadheeranahalli</td>\n",
       "      <td>3 BHK</td>\n",
       "      <td>1521.0</td>\n",
       "      <td>3.0</td>\n",
       "      <td>95.00</td>\n",
       "      <td>3</td>\n",
       "      <td>6245</td>\n",
       "    </tr>\n",
       "    <tr>\n",
       "      <th>4</th>\n",
       "      <td>Kothanur</td>\n",
       "      <td>2 BHK</td>\n",
       "      <td>1200.0</td>\n",
       "      <td>2.0</td>\n",
       "      <td>51.00</td>\n",
       "      <td>2</td>\n",
       "      <td>4250</td>\n",
       "    </tr>\n",
       "    <tr>\n",
       "      <th>...</th>\n",
       "      <td>...</td>\n",
       "      <td>...</td>\n",
       "      <td>...</td>\n",
       "      <td>...</td>\n",
       "      <td>...</td>\n",
       "      <td>...</td>\n",
       "      <td>...</td>\n",
       "    </tr>\n",
       "    <tr>\n",
       "      <th>13194</th>\n",
       "      <td>Green Glen Layout</td>\n",
       "      <td>3 BHK</td>\n",
       "      <td>1715.0</td>\n",
       "      <td>3.0</td>\n",
       "      <td>112.00</td>\n",
       "      <td>3</td>\n",
       "      <td>6530</td>\n",
       "    </tr>\n",
       "    <tr>\n",
       "      <th>13195</th>\n",
       "      <td>Whitefield</td>\n",
       "      <td>5 Bedroom</td>\n",
       "      <td>3453.0</td>\n",
       "      <td>4.0</td>\n",
       "      <td>231.00</td>\n",
       "      <td>5</td>\n",
       "      <td>6689</td>\n",
       "    </tr>\n",
       "    <tr>\n",
       "      <th>13196</th>\n",
       "      <td>other</td>\n",
       "      <td>4 BHK</td>\n",
       "      <td>3600.0</td>\n",
       "      <td>5.0</td>\n",
       "      <td>400.00</td>\n",
       "      <td>4</td>\n",
       "      <td>11111</td>\n",
       "    </tr>\n",
       "    <tr>\n",
       "      <th>13197</th>\n",
       "      <td>Raja Rajeshwari Nagar</td>\n",
       "      <td>2 BHK</td>\n",
       "      <td>1141.0</td>\n",
       "      <td>2.0</td>\n",
       "      <td>60.00</td>\n",
       "      <td>2</td>\n",
       "      <td>5258</td>\n",
       "    </tr>\n",
       "    <tr>\n",
       "      <th>13198</th>\n",
       "      <td>Padmanabhanagar</td>\n",
       "      <td>4 BHK</td>\n",
       "      <td>4689.0</td>\n",
       "      <td>4.0</td>\n",
       "      <td>488.00</td>\n",
       "      <td>4</td>\n",
       "      <td>10407</td>\n",
       "    </tr>\n",
       "  </tbody>\n",
       "</table>\n",
       "<p>10940 rows × 7 columns</p>\n",
       "</div>"
      ],
      "text/plain": [
       "                       location       size  total_sqft  bath   price  bhk  \\\n",
       "0      Electronic City Phase II      2 BHK      1056.0   2.0   39.07    2   \n",
       "1              Chikka Tirupathi  4 Bedroom      2600.0   5.0  120.00    4   \n",
       "2                   Uttarahalli      3 BHK      1440.0   2.0   62.00    3   \n",
       "3            Lingadheeranahalli      3 BHK      1521.0   3.0   95.00    3   \n",
       "4                      Kothanur      2 BHK      1200.0   2.0   51.00    2   \n",
       "...                         ...        ...         ...   ...     ...  ...   \n",
       "13194         Green Glen Layout      3 BHK      1715.0   3.0  112.00    3   \n",
       "13195                Whitefield  5 Bedroom      3453.0   4.0  231.00    5   \n",
       "13196                     other      4 BHK      3600.0   5.0  400.00    4   \n",
       "13197     Raja Rajeshwari Nagar      2 BHK      1141.0   2.0   60.00    2   \n",
       "13198           Padmanabhanagar      4 BHK      4689.0   4.0  488.00    4   \n",
       "\n",
       "       price_per_sqft  \n",
       "0                3699  \n",
       "1                4615  \n",
       "2                4305  \n",
       "3                6245  \n",
       "4                4250  \n",
       "...               ...  \n",
       "13194            6530  \n",
       "13195            6689  \n",
       "13196           11111  \n",
       "13197            5258  \n",
       "13198           10407  \n",
       "\n",
       "[10940 rows x 7 columns]"
      ]
     },
     "execution_count": 264,
     "metadata": {},
     "output_type": "execute_result"
    }
   ],
   "source": [
    "#deleting the outliers\n",
    "df2=df.loc[(df['price_per_sqft']<=upper_limit) & (df['price_per_sqft']>=lower_limit)]\n",
    "df2"
   ]
  },
  {
   "cell_type": "code",
   "execution_count": 265,
   "id": "899af62e-5b75-4e0a-9649-bc9a7aeb6269",
   "metadata": {},
   "outputs": [
    {
     "name": "stdout",
     "output_type": "stream",
     "text": [
      "Before removing outliers: 12151\n",
      "After removing outliers: 10940\n",
      "Outliers: 1211\n"
     ]
    }
   ],
   "source": [
    "print(\"Before removing outliers:\",len(df))\n",
    "print(\"After removing outliers:\",len(df2))\n",
    "print(\"Outliers:\",len(df)-len(df2))"
   ]
  },
  {
   "cell_type": "code",
   "execution_count": 266,
   "id": "bfd2d559-f49e-4e04-a00e-362b9045bd3c",
   "metadata": {},
   "outputs": [
    {
     "name": "stderr",
     "output_type": "stream",
     "text": [
      "C:\\Users\\deepz\\AppData\\Local\\Temp\\ipykernel_10800\\1263576762.py:1: UserWarning: \n",
      "\n",
      "`distplot` is a deprecated function and will be removed in seaborn v0.14.0.\n",
      "\n",
      "Please adapt your code to use either `displot` (a figure-level function with\n",
      "similar flexibility) or `histplot` (an axes-level function for histograms).\n",
      "\n",
      "For a guide to updating your code to use the new functions, please see\n",
      "https://gist.github.com/mwaskom/de44147ed2974457ad6372750bbe5751\n",
      "\n",
      "  sns.distplot(df2['price_per_sqft'],color='g')\n"
     ]
    },
    {
     "data": {
      "text/plain": [
       "Text(0.5, 1.0, 'Distribution of Price Per Sqft without outliers')"
      ]
     },
     "execution_count": 266,
     "metadata": {},
     "output_type": "execute_result"
    },
    {
     "data": {
      "image/png": "[encoded data removed]",
      "text/plain": [
       "<Figure size 640x480 with 1 Axes>"
      ]
     },
     "metadata": {},
     "output_type": "display_data"
    }
   ],
   "source": [
    "sns.distplot(df2['price_per_sqft'],color='g')\n",
    "plt.title('Distribution of Price Per Sqft without outliers',color='g')"
   ]
  },
  {
   "cell_type": "code",
   "execution_count": 267,
   "id": "cd5794d3-e2e9-46ed-8c3c-588ef2177717",
   "metadata": {},
   "outputs": [
    {
     "data": {
      "text/plain": [
       "<Axes: ylabel='price_per_sqft'>"
      ]
     },
     "execution_count": 267,
     "metadata": {},
     "output_type": "execute_result"
    },
    {
     "data": {
      "image/png": "[encoded data removed]",
      "text/plain": [
       "<Figure size 640x480 with 1 Axes>"
      ]
     },
     "metadata": {},
     "output_type": "display_data"
    }
   ],
   "source": [
    "sns.boxplot(df2['price_per_sqft'])"
   ]
  },
  {
   "cell_type": "markdown",
   "id": "caba901b-ae29-44ec-a8d9-658d52653fee",
   "metadata": {},
   "source": [
    "<span style='color:indigo'>***After applying the percentile technique to remove outliers, our distplot nearly formed a bell curve, and we managed to get rid of 1211 outliers from the dataset.***"
   ]
  },
  {
   "cell_type": "code",
   "execution_count": 268,
   "id": "4367d3c4-a35d-4445-9a0b-29cb0eedb1c8",
   "metadata": {},
   "outputs": [],
   "source": [
    "#CAPPING -cahne the outliers to upper or lower values\n",
    "new_df2=df.copy()\n",
    "new_df2.loc[(new_df2['price_per_sqft']>upper_limit),'price_per_sqft']=upper_limit\n",
    "new_df2.loc[(new_df2['price_per_sqft']<lower_limit),'price_per_sqft']=lower_limit"
   ]
  },
  {
   "cell_type": "code",
   "execution_count": 269,
   "id": "321439a0-9d78-4412-be07-fdd623b28440",
   "metadata": {},
   "outputs": [
    {
     "data": {
      "text/plain": [
       "<Axes: ylabel='price_per_sqft'>"
      ]
     },
     "execution_count": 269,
     "metadata": {},
     "output_type": "execute_result"
    },
    {
     "data": {
      "image/png": "[encoded data removed]",
      "text/plain": [
       "<Figure size 640x480 with 1 Axes>"
      ]
     },
     "metadata": {},
     "output_type": "display_data"
    }
   ],
   "source": [
    "sns.boxplot(new_df2['price_per_sqft'])"
   ]
  },
  {
   "cell_type": "markdown",
   "id": "997b211d-09a9-4ff7-8083-d5bee4c27f39",
   "metadata": {},
   "source": [
    "## 3.IQR METHOD"
   ]
  },
  {
   "cell_type": "code",
   "execution_count": 270,
   "id": "47f0afe9-adf7-49f9-95d7-cf8cbfee0fe2",
   "metadata": {},
   "outputs": [
    {
     "name": "stderr",
     "output_type": "stream",
     "text": [
      "C:\\Users\\deepz\\AppData\\Local\\Temp\\ipykernel_10800\\373823651.py:1: UserWarning: \n",
      "\n",
      "`distplot` is a deprecated function and will be removed in seaborn v0.14.0.\n",
      "\n",
      "Please adapt your code to use either `displot` (a figure-level function with\n",
      "similar flexibility) or `histplot` (an axes-level function for histograms).\n",
      "\n",
      "For a guide to updating your code to use the new functions, please see\n",
      "https://gist.github.com/mwaskom/de44147ed2974457ad6372750bbe5751\n",
      "\n",
      "  sns.distplot(df['price_per_sqft'])\n"
     ]
    },
    {
     "data": {
      "text/plain": [
       "Text(0.5, 1.0, 'Distribution of price Per Sqft with outliers')"
      ]
     },
     "execution_count": 270,
     "metadata": {},
     "output_type": "execute_result"
    },
    {
     "data": {
      "image/png": "[encoded data removed]",
      "text/plain": [
       "<Figure size 640x480 with 1 Axes>"
      ]
     },
     "metadata": {},
     "output_type": "display_data"
    }
   ],
   "source": [
    "sns.distplot(df['price_per_sqft'])\n",
    "plt.title('Distribution of price Per Sqft with outliers',color='b')"
   ]
  },
  {
   "cell_type": "code",
   "execution_count": 271,
   "id": "9180f418-6110-4c24-83d1-17fcd30e4c45",
   "metadata": {},
   "outputs": [
    {
     "data": {
      "text/plain": [
       "<Axes: ylabel='price_per_sqft'>"
      ]
     },
     "execution_count": 271,
     "metadata": {},
     "output_type": "execute_result"
    },
    {
     "data": {
      "image/png": "[encoded data removed]",
      "text/plain": [
       "<Figure size 640x480 with 1 Axes>"
      ]
     },
     "metadata": {},
     "output_type": "display_data"
    }
   ],
   "source": [
    "sns.boxplot(df['price_per_sqft'])"
   ]
  },
  {
   "cell_type": "code",
   "execution_count": 272,
   "id": "8e45ce41-df31-43f8-91a6-40d0b6254c97",
   "metadata": {},
   "outputs": [
    {
     "name": "stdout",
     "output_type": "stream",
     "text": [
      "Q1= 4312.0\n",
      "Q3= 7461.0\n",
      "IQR= 3149.0\n"
     ]
    }
   ],
   "source": [
    "Q1=df.price_per_sqft.quantile(0.25)\n",
    "Q3=df.price_per_sqft.quantile(0.75)\n",
    "IQR=Q3-Q1\n",
    "print(\"Q1=\",Q1)\n",
    "print(\"Q3=\",Q3)\n",
    "print(\"IQR=\",IQR)"
   ]
  },
  {
   "cell_type": "code",
   "execution_count": 273,
   "id": "09f59c33-2398-426b-a27d-e4c93e9a872c",
   "metadata": {},
   "outputs": [
    {
     "name": "stdout",
     "output_type": "stream",
     "text": [
      "Lower Whisker= -411.5\n",
      "Upper Whisker= 12184.5\n"
     ]
    }
   ],
   "source": [
    "lower_whisker=Q1-1.5*IQR\n",
    "upper_whisker=Q3+1.5*IQR\n",
    "print('Lower Whisker=',lower_whisker)\n",
    "print('Upper Whisker=',upper_whisker)"
   ]
  },
  {
   "cell_type": "code",
   "execution_count": 274,
   "id": "6c190971-2de6-4609-a832-946751b68962",
   "metadata": {},
   "outputs": [
    {
     "data": {
      "text/html": [
       "<div>\n",
       "<style scoped>\n",
       "    .dataframe tbody tr th:only-of-type {\n",
       "        vertical-align: middle;\n",
       "    }\n",
       "\n",
       "    .dataframe tbody tr th {\n",
       "        vertical-align: top;\n",
       "    }\n",
       "\n",
       "    .dataframe thead th {\n",
       "        text-align: right;\n",
       "    }\n",
       "</style>\n",
       "<table border=\"1\" class=\"dataframe\">\n",
       "  <thead>\n",
       "    <tr style=\"text-align: right;\">\n",
       "      <th></th>\n",
       "      <th>location</th>\n",
       "      <th>size</th>\n",
       "      <th>total_sqft</th>\n",
       "      <th>bath</th>\n",
       "      <th>price</th>\n",
       "      <th>bhk</th>\n",
       "      <th>price_per_sqft</th>\n",
       "    </tr>\n",
       "  </thead>\n",
       "  <tbody>\n",
       "    <tr>\n",
       "      <th>7</th>\n",
       "      <td>Rajaji Nagar</td>\n",
       "      <td>4 BHK</td>\n",
       "      <td>3300.0</td>\n",
       "      <td>4.0</td>\n",
       "      <td>600.0</td>\n",
       "      <td>4</td>\n",
       "      <td>18181</td>\n",
       "    </tr>\n",
       "    <tr>\n",
       "      <th>9</th>\n",
       "      <td>other</td>\n",
       "      <td>6 Bedroom</td>\n",
       "      <td>1020.0</td>\n",
       "      <td>6.0</td>\n",
       "      <td>370.0</td>\n",
       "      <td>6</td>\n",
       "      <td>36274</td>\n",
       "    </tr>\n",
       "    <tr>\n",
       "      <th>22</th>\n",
       "      <td>Thanisandra</td>\n",
       "      <td>4 Bedroom</td>\n",
       "      <td>2800.0</td>\n",
       "      <td>5.0</td>\n",
       "      <td>380.0</td>\n",
       "      <td>4</td>\n",
       "      <td>13571</td>\n",
       "    </tr>\n",
       "    <tr>\n",
       "      <th>45</th>\n",
       "      <td>HSR Layout</td>\n",
       "      <td>8 Bedroom</td>\n",
       "      <td>600.0</td>\n",
       "      <td>9.0</td>\n",
       "      <td>200.0</td>\n",
       "      <td>8</td>\n",
       "      <td>33333</td>\n",
       "    </tr>\n",
       "    <tr>\n",
       "      <th>48</th>\n",
       "      <td>KR Puram</td>\n",
       "      <td>2 Bedroom</td>\n",
       "      <td>800.0</td>\n",
       "      <td>1.0</td>\n",
       "      <td>130.0</td>\n",
       "      <td>2</td>\n",
       "      <td>16250</td>\n",
       "    </tr>\n",
       "    <tr>\n",
       "      <th>...</th>\n",
       "      <td>...</td>\n",
       "      <td>...</td>\n",
       "      <td>...</td>\n",
       "      <td>...</td>\n",
       "      <td>...</td>\n",
       "      <td>...</td>\n",
       "      <td>...</td>\n",
       "    </tr>\n",
       "    <tr>\n",
       "      <th>13114</th>\n",
       "      <td>other</td>\n",
       "      <td>3 BHK</td>\n",
       "      <td>1903.0</td>\n",
       "      <td>2.0</td>\n",
       "      <td>293.0</td>\n",
       "      <td>3</td>\n",
       "      <td>15396</td>\n",
       "    </tr>\n",
       "    <tr>\n",
       "      <th>13141</th>\n",
       "      <td>other</td>\n",
       "      <td>3 Bedroom</td>\n",
       "      <td>2000.0</td>\n",
       "      <td>2.0</td>\n",
       "      <td>360.0</td>\n",
       "      <td>3</td>\n",
       "      <td>18000</td>\n",
       "    </tr>\n",
       "    <tr>\n",
       "      <th>13142</th>\n",
       "      <td>other</td>\n",
       "      <td>2 BHK</td>\n",
       "      <td>1140.0</td>\n",
       "      <td>1.0</td>\n",
       "      <td>185.0</td>\n",
       "      <td>2</td>\n",
       "      <td>16228</td>\n",
       "    </tr>\n",
       "    <tr>\n",
       "      <th>13157</th>\n",
       "      <td>other</td>\n",
       "      <td>7 Bedroom</td>\n",
       "      <td>1400.0</td>\n",
       "      <td>7.0</td>\n",
       "      <td>218.0</td>\n",
       "      <td>7</td>\n",
       "      <td>15571</td>\n",
       "    </tr>\n",
       "    <tr>\n",
       "      <th>13185</th>\n",
       "      <td>Hulimavu</td>\n",
       "      <td>1 BHK</td>\n",
       "      <td>500.0</td>\n",
       "      <td>1.0</td>\n",
       "      <td>220.0</td>\n",
       "      <td>1</td>\n",
       "      <td>44000</td>\n",
       "    </tr>\n",
       "  </tbody>\n",
       "</table>\n",
       "<p>1142 rows × 7 columns</p>\n",
       "</div>"
      ],
      "text/plain": [
       "           location       size  total_sqft  bath  price  bhk  price_per_sqft\n",
       "7      Rajaji Nagar      4 BHK      3300.0   4.0  600.0    4           18181\n",
       "9             other  6 Bedroom      1020.0   6.0  370.0    6           36274\n",
       "22      Thanisandra  4 Bedroom      2800.0   5.0  380.0    4           13571\n",
       "45       HSR Layout  8 Bedroom       600.0   9.0  200.0    8           33333\n",
       "48         KR Puram  2 Bedroom       800.0   1.0  130.0    2           16250\n",
       "...             ...        ...         ...   ...    ...  ...             ...\n",
       "13114         other      3 BHK      1903.0   2.0  293.0    3           15396\n",
       "13141         other  3 Bedroom      2000.0   2.0  360.0    3           18000\n",
       "13142         other      2 BHK      1140.0   1.0  185.0    2           16228\n",
       "13157         other  7 Bedroom      1400.0   7.0  218.0    7           15571\n",
       "13185      Hulimavu      1 BHK       500.0   1.0  220.0    1           44000\n",
       "\n",
       "[1142 rows x 7 columns]"
      ]
     },
     "execution_count": 274,
     "metadata": {},
     "output_type": "execute_result"
    }
   ],
   "source": [
    "#finding otuliers\n",
    "df[(df.price_per_sqft<-411.5) | (df.price_per_sqft>12184.5)]"
   ]
  },
  {
   "cell_type": "code",
   "execution_count": 275,
   "id": "11b28623-cba7-4a59-b4dc-60ba40e97676",
   "metadata": {},
   "outputs": [
    {
     "data": {
      "text/html": [
       "<div>\n",
       "<style scoped>\n",
       "    .dataframe tbody tr th:only-of-type {\n",
       "        vertical-align: middle;\n",
       "    }\n",
       "\n",
       "    .dataframe tbody tr th {\n",
       "        vertical-align: top;\n",
       "    }\n",
       "\n",
       "    .dataframe thead th {\n",
       "        text-align: right;\n",
       "    }\n",
       "</style>\n",
       "<table border=\"1\" class=\"dataframe\">\n",
       "  <thead>\n",
       "    <tr style=\"text-align: right;\">\n",
       "      <th></th>\n",
       "      <th>location</th>\n",
       "      <th>size</th>\n",
       "      <th>total_sqft</th>\n",
       "      <th>bath</th>\n",
       "      <th>price</th>\n",
       "      <th>bhk</th>\n",
       "      <th>price_per_sqft</th>\n",
       "    </tr>\n",
       "  </thead>\n",
       "  <tbody>\n",
       "    <tr>\n",
       "      <th>0</th>\n",
       "      <td>Electronic City Phase II</td>\n",
       "      <td>2 BHK</td>\n",
       "      <td>1056.0</td>\n",
       "      <td>2.0</td>\n",
       "      <td>39.07</td>\n",
       "      <td>2</td>\n",
       "      <td>3699</td>\n",
       "    </tr>\n",
       "    <tr>\n",
       "      <th>1</th>\n",
       "      <td>Chikka Tirupathi</td>\n",
       "      <td>4 Bedroom</td>\n",
       "      <td>2600.0</td>\n",
       "      <td>5.0</td>\n",
       "      <td>120.00</td>\n",
       "      <td>4</td>\n",
       "      <td>4615</td>\n",
       "    </tr>\n",
       "    <tr>\n",
       "      <th>2</th>\n",
       "      <td>Uttarahalli</td>\n",
       "      <td>3 BHK</td>\n",
       "      <td>1440.0</td>\n",
       "      <td>2.0</td>\n",
       "      <td>62.00</td>\n",
       "      <td>3</td>\n",
       "      <td>4305</td>\n",
       "    </tr>\n",
       "    <tr>\n",
       "      <th>3</th>\n",
       "      <td>Lingadheeranahalli</td>\n",
       "      <td>3 BHK</td>\n",
       "      <td>1521.0</td>\n",
       "      <td>3.0</td>\n",
       "      <td>95.00</td>\n",
       "      <td>3</td>\n",
       "      <td>6245</td>\n",
       "    </tr>\n",
       "    <tr>\n",
       "      <th>4</th>\n",
       "      <td>Kothanur</td>\n",
       "      <td>2 BHK</td>\n",
       "      <td>1200.0</td>\n",
       "      <td>2.0</td>\n",
       "      <td>51.00</td>\n",
       "      <td>2</td>\n",
       "      <td>4250</td>\n",
       "    </tr>\n",
       "    <tr>\n",
       "      <th>...</th>\n",
       "      <td>...</td>\n",
       "      <td>...</td>\n",
       "      <td>...</td>\n",
       "      <td>...</td>\n",
       "      <td>...</td>\n",
       "      <td>...</td>\n",
       "      <td>...</td>\n",
       "    </tr>\n",
       "    <tr>\n",
       "      <th>13194</th>\n",
       "      <td>Green Glen Layout</td>\n",
       "      <td>3 BHK</td>\n",
       "      <td>1715.0</td>\n",
       "      <td>3.0</td>\n",
       "      <td>112.00</td>\n",
       "      <td>3</td>\n",
       "      <td>6530</td>\n",
       "    </tr>\n",
       "    <tr>\n",
       "      <th>13195</th>\n",
       "      <td>Whitefield</td>\n",
       "      <td>5 Bedroom</td>\n",
       "      <td>3453.0</td>\n",
       "      <td>4.0</td>\n",
       "      <td>231.00</td>\n",
       "      <td>5</td>\n",
       "      <td>6689</td>\n",
       "    </tr>\n",
       "    <tr>\n",
       "      <th>13196</th>\n",
       "      <td>other</td>\n",
       "      <td>4 BHK</td>\n",
       "      <td>3600.0</td>\n",
       "      <td>5.0</td>\n",
       "      <td>400.00</td>\n",
       "      <td>4</td>\n",
       "      <td>11111</td>\n",
       "    </tr>\n",
       "    <tr>\n",
       "      <th>13197</th>\n",
       "      <td>Raja Rajeshwari Nagar</td>\n",
       "      <td>2 BHK</td>\n",
       "      <td>1141.0</td>\n",
       "      <td>2.0</td>\n",
       "      <td>60.00</td>\n",
       "      <td>2</td>\n",
       "      <td>5258</td>\n",
       "    </tr>\n",
       "    <tr>\n",
       "      <th>13198</th>\n",
       "      <td>Padmanabhanagar</td>\n",
       "      <td>4 BHK</td>\n",
       "      <td>4689.0</td>\n",
       "      <td>4.0</td>\n",
       "      <td>488.00</td>\n",
       "      <td>4</td>\n",
       "      <td>10407</td>\n",
       "    </tr>\n",
       "  </tbody>\n",
       "</table>\n",
       "<p>11009 rows × 7 columns</p>\n",
       "</div>"
      ],
      "text/plain": [
       "                       location       size  total_sqft  bath   price  bhk  \\\n",
       "0      Electronic City Phase II      2 BHK      1056.0   2.0   39.07    2   \n",
       "1              Chikka Tirupathi  4 Bedroom      2600.0   5.0  120.00    4   \n",
       "2                   Uttarahalli      3 BHK      1440.0   2.0   62.00    3   \n",
       "3            Lingadheeranahalli      3 BHK      1521.0   3.0   95.00    3   \n",
       "4                      Kothanur      2 BHK      1200.0   2.0   51.00    2   \n",
       "...                         ...        ...         ...   ...     ...  ...   \n",
       "13194         Green Glen Layout      3 BHK      1715.0   3.0  112.00    3   \n",
       "13195                Whitefield  5 Bedroom      3453.0   4.0  231.00    5   \n",
       "13196                     other      4 BHK      3600.0   5.0  400.00    4   \n",
       "13197     Raja Rajeshwari Nagar      2 BHK      1141.0   2.0   60.00    2   \n",
       "13198           Padmanabhanagar      4 BHK      4689.0   4.0  488.00    4   \n",
       "\n",
       "       price_per_sqft  \n",
       "0                3699  \n",
       "1                4615  \n",
       "2                4305  \n",
       "3                6245  \n",
       "4                4250  \n",
       "...               ...  \n",
       "13194            6530  \n",
       "13195            6689  \n",
       "13196           11111  \n",
       "13197            5258  \n",
       "13198           10407  \n",
       "\n",
       "[11009 rows x 7 columns]"
      ]
     },
     "execution_count": 275,
     "metadata": {},
     "output_type": "execute_result"
    }
   ],
   "source": [
    "#df without outliers\n",
    "df3=df[(df.price_per_sqft>-411.5) & (df.price_per_sqft<12184.5)]\n",
    "df3"
   ]
  },
  {
   "cell_type": "code",
   "execution_count": 276,
   "id": "b2737ad8-bd82-44b9-8b6a-48cedc538cb9",
   "metadata": {},
   "outputs": [
    {
     "name": "stdout",
     "output_type": "stream",
     "text": [
      "Before removing outliers: 12151\n",
      "After removing outliers 11009\n",
      "Outliers: 1142\n"
     ]
    }
   ],
   "source": [
    "print('Before removing outliers:',len(df))\n",
    "print('After removing outliers',len(df3))\n",
    "print('Outliers:',len(df)-len(df3))"
   ]
  },
  {
   "cell_type": "code",
   "execution_count": 277,
   "id": "5f2cfd01-e200-47c9-aa59-d166fa3ddcd3",
   "metadata": {},
   "outputs": [
    {
     "name": "stderr",
     "output_type": "stream",
     "text": [
      "C:\\Users\\deepz\\AppData\\Local\\Temp\\ipykernel_10800\\1727763733.py:1: UserWarning: \n",
      "\n",
      "`distplot` is a deprecated function and will be removed in seaborn v0.14.0.\n",
      "\n",
      "Please adapt your code to use either `displot` (a figure-level function with\n",
      "similar flexibility) or `histplot` (an axes-level function for histograms).\n",
      "\n",
      "For a guide to updating your code to use the new functions, please see\n",
      "https://gist.github.com/mwaskom/de44147ed2974457ad6372750bbe5751\n",
      "\n",
      "  sns.distplot(df3['price_per_sqft'],color='y')\n"
     ]
    },
    {
     "data": {
      "text/plain": [
       "Text(0.5, 1.0, 'Distribution of Price Per Sqft without outliers')"
      ]
     },
     "execution_count": 277,
     "metadata": {},
     "output_type": "execute_result"
    },
    {
     "data": {
      "image/png": "[encoded data removed]",
      "text/plain": [
       "<Figure size 640x480 with 1 Axes>"
      ]
     },
     "metadata": {},
     "output_type": "display_data"
    }
   ],
   "source": [
    "sns.distplot(df3['price_per_sqft'],color='y')\n",
    "plt.title('Distribution of Price Per Sqft without outliers')"
   ]
  },
  {
   "cell_type": "code",
   "execution_count": 278,
   "id": "8544c694-9009-476c-9b58-4e4542523e4b",
   "metadata": {},
   "outputs": [
    {
     "data": {
      "text/plain": [
       "<Axes: ylabel='price_per_sqft'>"
      ]
     },
     "execution_count": 278,
     "metadata": {},
     "output_type": "execute_result"
    },
    {
     "data": {
      "image/png": "[encoded data removed]",
      "text/plain": [
       "<Figure size 640x480 with 1 Axes>"
      ]
     },
     "metadata": {},
     "output_type": "display_data"
    }
   ],
   "source": [
    "sns.boxplot(df3['price_per_sqft'])"
   ]
  },
  {
   "cell_type": "markdown",
   "id": "b41260c3-1983-4e62-bcab-b63c82f97ee6",
   "metadata": {},
   "source": [
    "<span style='color:blue'>***Using IQR method to eliminate the outliers,we approached a bell shaped curve in the distplot and removed a total of 1142 outliers  from the dataset.***"
   ]
  },
  {
   "cell_type": "markdown",
   "id": "20ce77e6-ef0d-43db-8fd0-d31649d4f187",
   "metadata": {},
   "source": [
    "## 4.NORMAL DISTRIBUTION"
   ]
  },
  {
   "cell_type": "code",
   "execution_count": 279,
   "id": "c1961c98-8237-4c1c-bce1-a7125135d808",
   "metadata": {},
   "outputs": [
    {
     "data": {
      "text/plain": [
       "count    1.215100e+04\n",
       "mean     8.132642e+03\n",
       "std      1.112329e+05\n",
       "min      2.670000e+02\n",
       "25%      4.312000e+03\n",
       "50%      5.500000e+03\n",
       "75%      7.461000e+03\n",
       "max      1.200000e+07\n",
       "Name: price_per_sqft, dtype: float64"
      ]
     },
     "execution_count": 279,
     "metadata": {},
     "output_type": "execute_result"
    }
   ],
   "source": [
    "df.price_per_sqft.describe()"
   ]
  },
  {
   "cell_type": "code",
   "execution_count": 280,
   "id": "1e0e8872-32e8-4443-9730-88e8b47fcdd9",
   "metadata": {},
   "outputs": [
    {
     "data": {
      "text/plain": [
       "8132.641840177763"
      ]
     },
     "execution_count": 280,
     "metadata": {},
     "output_type": "execute_result"
    }
   ],
   "source": [
    "m=df.price_per_sqft.mean()\n",
    "m"
   ]
  },
  {
   "cell_type": "code",
   "execution_count": 281,
   "id": "772d5647-8685-4f10-8d7b-1761be396f8d",
   "metadata": {},
   "outputs": [
    {
     "data": {
      "text/plain": [
       "111232.90089570847"
      ]
     },
     "execution_count": 281,
     "metadata": {},
     "output_type": "execute_result"
    }
   ],
   "source": [
    "s=df.price_per_sqft.std()\n",
    "s"
   ]
  },
  {
   "cell_type": "code",
   "execution_count": 282,
   "id": "ead7fcff-1d73-4520-9e2f-e9a16324b046",
   "metadata": {},
   "outputs": [
    {
     "data": {
      "text/plain": [
       "-325566.06084694766"
      ]
     },
     "execution_count": 282,
     "metadata": {},
     "output_type": "execute_result"
    }
   ],
   "source": [
    "#-3sigma\n",
    "m-3*s"
   ]
  },
  {
   "cell_type": "code",
   "execution_count": 283,
   "id": "60b29667-41e3-4a5c-92bf-704ad78fbd9d",
   "metadata": {},
   "outputs": [
    {
     "data": {
      "text/plain": [
       "341831.3445273032"
      ]
     },
     "execution_count": 283,
     "metadata": {},
     "output_type": "execute_result"
    }
   ],
   "source": [
    "#+3sigma\n",
    "m+3*s"
   ]
  },
  {
   "cell_type": "code",
   "execution_count": 284,
   "id": "99f68f66-38e2-4ab5-828c-92b926b72c84",
   "metadata": {},
   "outputs": [
    {
     "data": {
      "text/html": [
       "<div>\n",
       "<style scoped>\n",
       "    .dataframe tbody tr th:only-of-type {\n",
       "        vertical-align: middle;\n",
       "    }\n",
       "\n",
       "    .dataframe tbody tr th {\n",
       "        vertical-align: top;\n",
       "    }\n",
       "\n",
       "    .dataframe thead th {\n",
       "        text-align: right;\n",
       "    }\n",
       "</style>\n",
       "<table border=\"1\" class=\"dataframe\">\n",
       "  <thead>\n",
       "    <tr style=\"text-align: right;\">\n",
       "      <th></th>\n",
       "      <th>location</th>\n",
       "      <th>size</th>\n",
       "      <th>total_sqft</th>\n",
       "      <th>bath</th>\n",
       "      <th>price</th>\n",
       "      <th>bhk</th>\n",
       "      <th>price_per_sqft</th>\n",
       "    </tr>\n",
       "  </thead>\n",
       "  <tbody>\n",
       "    <tr>\n",
       "      <th>345</th>\n",
       "      <td>other</td>\n",
       "      <td>3 Bedroom</td>\n",
       "      <td>11.0</td>\n",
       "      <td>3.0</td>\n",
       "      <td>74.0</td>\n",
       "      <td>3</td>\n",
       "      <td>672727</td>\n",
       "    </tr>\n",
       "    <tr>\n",
       "      <th>1106</th>\n",
       "      <td>other</td>\n",
       "      <td>5 Bedroom</td>\n",
       "      <td>24.0</td>\n",
       "      <td>2.0</td>\n",
       "      <td>150.0</td>\n",
       "      <td>5</td>\n",
       "      <td>625000</td>\n",
       "    </tr>\n",
       "    <tr>\n",
       "      <th>4044</th>\n",
       "      <td>Sarjapur  Road</td>\n",
       "      <td>4 Bedroom</td>\n",
       "      <td>1.0</td>\n",
       "      <td>4.0</td>\n",
       "      <td>120.0</td>\n",
       "      <td>4</td>\n",
       "      <td>12000000</td>\n",
       "    </tr>\n",
       "    <tr>\n",
       "      <th>4924</th>\n",
       "      <td>other</td>\n",
       "      <td>7 BHK</td>\n",
       "      <td>5.0</td>\n",
       "      <td>7.0</td>\n",
       "      <td>115.0</td>\n",
       "      <td>7</td>\n",
       "      <td>2300000</td>\n",
       "    </tr>\n",
       "    <tr>\n",
       "      <th>11447</th>\n",
       "      <td>Whitefield</td>\n",
       "      <td>4 Bedroom</td>\n",
       "      <td>60.0</td>\n",
       "      <td>4.0</td>\n",
       "      <td>218.0</td>\n",
       "      <td>4</td>\n",
       "      <td>363333</td>\n",
       "    </tr>\n",
       "  </tbody>\n",
       "</table>\n",
       "</div>"
      ],
      "text/plain": [
       "             location       size  total_sqft  bath  price  bhk  price_per_sqft\n",
       "345             other  3 Bedroom        11.0   3.0   74.0    3          672727\n",
       "1106            other  5 Bedroom        24.0   2.0  150.0    5          625000\n",
       "4044   Sarjapur  Road  4 Bedroom         1.0   4.0  120.0    4        12000000\n",
       "4924            other      7 BHK         5.0   7.0  115.0    7         2300000\n",
       "11447      Whitefield  4 Bedroom        60.0   4.0  218.0    4          363333"
      ]
     },
     "execution_count": 284,
     "metadata": {},
     "output_type": "execute_result"
    }
   ],
   "source": [
    "#finding outliers\n",
    "df[(df.price_per_sqft<-325566.06084694766) | (df.price_per_sqft>341831.3445273032)]"
   ]
  },
  {
   "cell_type": "code",
   "execution_count": 285,
   "id": "10f5cb92-3e50-4c4e-af78-b3a47c27030f",
   "metadata": {},
   "outputs": [
    {
     "data": {
      "text/html": [
       "<div>\n",
       "<style scoped>\n",
       "    .dataframe tbody tr th:only-of-type {\n",
       "        vertical-align: middle;\n",
       "    }\n",
       "\n",
       "    .dataframe tbody tr th {\n",
       "        vertical-align: top;\n",
       "    }\n",
       "\n",
       "    .dataframe thead th {\n",
       "        text-align: right;\n",
       "    }\n",
       "</style>\n",
       "<table border=\"1\" class=\"dataframe\">\n",
       "  <thead>\n",
       "    <tr style=\"text-align: right;\">\n",
       "      <th></th>\n",
       "      <th>location</th>\n",
       "      <th>size</th>\n",
       "      <th>total_sqft</th>\n",
       "      <th>bath</th>\n",
       "      <th>price</th>\n",
       "      <th>bhk</th>\n",
       "      <th>price_per_sqft</th>\n",
       "    </tr>\n",
       "  </thead>\n",
       "  <tbody>\n",
       "    <tr>\n",
       "      <th>0</th>\n",
       "      <td>Electronic City Phase II</td>\n",
       "      <td>2 BHK</td>\n",
       "      <td>1056.0</td>\n",
       "      <td>2.0</td>\n",
       "      <td>39.07</td>\n",
       "      <td>2</td>\n",
       "      <td>3699</td>\n",
       "    </tr>\n",
       "    <tr>\n",
       "      <th>1</th>\n",
       "      <td>Chikka Tirupathi</td>\n",
       "      <td>4 Bedroom</td>\n",
       "      <td>2600.0</td>\n",
       "      <td>5.0</td>\n",
       "      <td>120.00</td>\n",
       "      <td>4</td>\n",
       "      <td>4615</td>\n",
       "    </tr>\n",
       "    <tr>\n",
       "      <th>2</th>\n",
       "      <td>Uttarahalli</td>\n",
       "      <td>3 BHK</td>\n",
       "      <td>1440.0</td>\n",
       "      <td>2.0</td>\n",
       "      <td>62.00</td>\n",
       "      <td>3</td>\n",
       "      <td>4305</td>\n",
       "    </tr>\n",
       "    <tr>\n",
       "      <th>3</th>\n",
       "      <td>Lingadheeranahalli</td>\n",
       "      <td>3 BHK</td>\n",
       "      <td>1521.0</td>\n",
       "      <td>3.0</td>\n",
       "      <td>95.00</td>\n",
       "      <td>3</td>\n",
       "      <td>6245</td>\n",
       "    </tr>\n",
       "    <tr>\n",
       "      <th>4</th>\n",
       "      <td>Kothanur</td>\n",
       "      <td>2 BHK</td>\n",
       "      <td>1200.0</td>\n",
       "      <td>2.0</td>\n",
       "      <td>51.00</td>\n",
       "      <td>2</td>\n",
       "      <td>4250</td>\n",
       "    </tr>\n",
       "    <tr>\n",
       "      <th>...</th>\n",
       "      <td>...</td>\n",
       "      <td>...</td>\n",
       "      <td>...</td>\n",
       "      <td>...</td>\n",
       "      <td>...</td>\n",
       "      <td>...</td>\n",
       "      <td>...</td>\n",
       "    </tr>\n",
       "    <tr>\n",
       "      <th>13194</th>\n",
       "      <td>Green Glen Layout</td>\n",
       "      <td>3 BHK</td>\n",
       "      <td>1715.0</td>\n",
       "      <td>3.0</td>\n",
       "      <td>112.00</td>\n",
       "      <td>3</td>\n",
       "      <td>6530</td>\n",
       "    </tr>\n",
       "    <tr>\n",
       "      <th>13195</th>\n",
       "      <td>Whitefield</td>\n",
       "      <td>5 Bedroom</td>\n",
       "      <td>3453.0</td>\n",
       "      <td>4.0</td>\n",
       "      <td>231.00</td>\n",
       "      <td>5</td>\n",
       "      <td>6689</td>\n",
       "    </tr>\n",
       "    <tr>\n",
       "      <th>13196</th>\n",
       "      <td>other</td>\n",
       "      <td>4 BHK</td>\n",
       "      <td>3600.0</td>\n",
       "      <td>5.0</td>\n",
       "      <td>400.00</td>\n",
       "      <td>4</td>\n",
       "      <td>11111</td>\n",
       "    </tr>\n",
       "    <tr>\n",
       "      <th>13197</th>\n",
       "      <td>Raja Rajeshwari Nagar</td>\n",
       "      <td>2 BHK</td>\n",
       "      <td>1141.0</td>\n",
       "      <td>2.0</td>\n",
       "      <td>60.00</td>\n",
       "      <td>2</td>\n",
       "      <td>5258</td>\n",
       "    </tr>\n",
       "    <tr>\n",
       "      <th>13198</th>\n",
       "      <td>Padmanabhanagar</td>\n",
       "      <td>4 BHK</td>\n",
       "      <td>4689.0</td>\n",
       "      <td>4.0</td>\n",
       "      <td>488.00</td>\n",
       "      <td>4</td>\n",
       "      <td>10407</td>\n",
       "    </tr>\n",
       "  </tbody>\n",
       "</table>\n",
       "<p>12146 rows × 7 columns</p>\n",
       "</div>"
      ],
      "text/plain": [
       "                       location       size  total_sqft  bath   price  bhk  \\\n",
       "0      Electronic City Phase II      2 BHK      1056.0   2.0   39.07    2   \n",
       "1              Chikka Tirupathi  4 Bedroom      2600.0   5.0  120.00    4   \n",
       "2                   Uttarahalli      3 BHK      1440.0   2.0   62.00    3   \n",
       "3            Lingadheeranahalli      3 BHK      1521.0   3.0   95.00    3   \n",
       "4                      Kothanur      2 BHK      1200.0   2.0   51.00    2   \n",
       "...                         ...        ...         ...   ...     ...  ...   \n",
       "13194         Green Glen Layout      3 BHK      1715.0   3.0  112.00    3   \n",
       "13195                Whitefield  5 Bedroom      3453.0   4.0  231.00    5   \n",
       "13196                     other      4 BHK      3600.0   5.0  400.00    4   \n",
       "13197     Raja Rajeshwari Nagar      2 BHK      1141.0   2.0   60.00    2   \n",
       "13198           Padmanabhanagar      4 BHK      4689.0   4.0  488.00    4   \n",
       "\n",
       "       price_per_sqft  \n",
       "0                3699  \n",
       "1                4615  \n",
       "2                4305  \n",
       "3                6245  \n",
       "4                4250  \n",
       "...               ...  \n",
       "13194            6530  \n",
       "13195            6689  \n",
       "13196           11111  \n",
       "13197            5258  \n",
       "13198           10407  \n",
       "\n",
       "[12146 rows x 7 columns]"
      ]
     },
     "execution_count": 285,
     "metadata": {},
     "output_type": "execute_result"
    }
   ],
   "source": [
    "#data without outliers\n",
    "df4=df[(df.price_per_sqft>-325566.06084694766) & (df.price_per_sqft<341831.3445273032)]\n",
    "df4"
   ]
  },
  {
   "cell_type": "code",
   "execution_count": 286,
   "id": "1633df71-772d-4cbe-9094-5be63277473d",
   "metadata": {},
   "outputs": [
    {
     "name": "stdout",
     "output_type": "stream",
     "text": [
      "Before removing outliers: 12151\n",
      "After removing outliers: 12146\n",
      "Outliers: 5\n"
     ]
    }
   ],
   "source": [
    "print(\"Before removing outliers:\",len(df))\n",
    "print(\"After removing outliers:\",len(df4))\n",
    "print(\"Outliers:\",len(df)-len(df4))"
   ]
  },
  {
   "cell_type": "code",
   "execution_count": 287,
   "id": "e5bc81f1-2f1c-4f4c-8262-7051b39cf938",
   "metadata": {},
   "outputs": [
    {
     "name": "stderr",
     "output_type": "stream",
     "text": [
      "C:\\Users\\deepz\\AppData\\Local\\Temp\\ipykernel_10800\\4222713904.py:1: UserWarning: \n",
      "\n",
      "`distplot` is a deprecated function and will be removed in seaborn v0.14.0.\n",
      "\n",
      "Please adapt your code to use either `displot` (a figure-level function with\n",
      "similar flexibility) or `histplot` (an axes-level function for histograms).\n",
      "\n",
      "For a guide to updating your code to use the new functions, please see\n",
      "https://gist.github.com/mwaskom/de44147ed2974457ad6372750bbe5751\n",
      "\n",
      "  sns.distplot(df4['price_per_sqft'],color='m')\n"
     ]
    },
    {
     "data": {
      "text/plain": [
       "<Axes: xlabel='price_per_sqft', ylabel='Density'>"
      ]
     },
     "execution_count": 287,
     "metadata": {},
     "output_type": "execute_result"
    },
    {
     "data": {
      "image/png": "[encoded data removed]",
      "text/plain": [
       "<Figure size 640x480 with 1 Axes>"
      ]
     },
     "metadata": {},
     "output_type": "display_data"
    }
   ],
   "source": [
    "sns.distplot(df4['price_per_sqft'],color='m')"
   ]
  },
  {
   "cell_type": "code",
   "execution_count": 288,
   "id": "1e8f2fcd-b47d-484c-9fad-20060f19bfec",
   "metadata": {},
   "outputs": [
    {
     "data": {
      "text/plain": [
       "<Axes: ylabel='price_per_sqft'>"
      ]
     },
     "execution_count": 288,
     "metadata": {},
     "output_type": "execute_result"
    },
    {
     "data": {
      "image/png": "[encoded data removed]",
      "text/plain": [
       "<Figure size 640x480 with 1 Axes>"
      ]
     },
     "metadata": {},
     "output_type": "display_data"
    }
   ],
   "source": [
    "sns.boxplot(df4['price_per_sqft'])"
   ]
  },
  {
   "cell_type": "markdown",
   "id": "88ec2840-9752-404a-933f-da2de669c612",
   "metadata": {},
   "source": [
    "<span style='color:indigo'>***Using the Normal Distributon Method, before removing outliers, there were 12151 data rows. After removing the outliers, there were 12146 data rows.5 outliers are identified.***"
   ]
  },
  {
   "cell_type": "markdown",
   "id": "e49160c7-8b09-4086-88ba-a5e63cbf4e82",
   "metadata": {},
   "source": [
    "## 5.ZSCORE METHOD"
   ]
  },
  {
   "cell_type": "code",
   "execution_count": 289,
   "id": "8c6b14bd-64ac-4f88-96b9-e2bc9351252c",
   "metadata": {},
   "outputs": [
    {
     "data": {
      "text/plain": [
       "8132.641840177763"
      ]
     },
     "execution_count": 289,
     "metadata": {},
     "output_type": "execute_result"
    }
   ],
   "source": [
    "m=df.price_per_sqft.mean()\n",
    "m"
   ]
  },
  {
   "cell_type": "code",
   "execution_count": 290,
   "id": "b5911241-5db3-44c4-bfab-160cde93075a",
   "metadata": {},
   "outputs": [
    {
     "data": {
      "text/plain": [
       "111232.90089570847"
      ]
     },
     "execution_count": 290,
     "metadata": {},
     "output_type": "execute_result"
    }
   ],
   "source": [
    "s=df.price_per_sqft.std()\n",
    "s"
   ]
  },
  {
   "cell_type": "code",
   "execution_count": 291,
   "id": "4fbcf7a6-fe3c-4a16-8031-f88a5410c7ef",
   "metadata": {},
   "outputs": [
    {
     "data": {
      "text/plain": [
       "-325566.06084694766"
      ]
     },
     "execution_count": 291,
     "metadata": {},
     "output_type": "execute_result"
    }
   ],
   "source": [
    "lower_limit=m-3*s\n",
    "lower_limit"
   ]
  },
  {
   "cell_type": "code",
   "execution_count": 292,
   "id": "8f860280-f039-4c6e-b38b-8276620f254c",
   "metadata": {},
   "outputs": [
    {
     "data": {
      "text/plain": [
       "341831.3445273032"
      ]
     },
     "execution_count": 292,
     "metadata": {},
     "output_type": "execute_result"
    }
   ],
   "source": [
    "upper_limit=m+3*s\n",
    "upper_limit"
   ]
  },
  {
   "cell_type": "code",
   "execution_count": 293,
   "id": "9b219539-23e0-4f48-96bb-5e3dcb8758c2",
   "metadata": {},
   "outputs": [
    {
     "data": {
      "text/html": [
       "<div>\n",
       "<style scoped>\n",
       "    .dataframe tbody tr th:only-of-type {\n",
       "        vertical-align: middle;\n",
       "    }\n",
       "\n",
       "    .dataframe tbody tr th {\n",
       "        vertical-align: top;\n",
       "    }\n",
       "\n",
       "    .dataframe thead th {\n",
       "        text-align: right;\n",
       "    }\n",
       "</style>\n",
       "<table border=\"1\" class=\"dataframe\">\n",
       "  <thead>\n",
       "    <tr style=\"text-align: right;\">\n",
       "      <th></th>\n",
       "      <th>location</th>\n",
       "      <th>size</th>\n",
       "      <th>total_sqft</th>\n",
       "      <th>bath</th>\n",
       "      <th>price</th>\n",
       "      <th>bhk</th>\n",
       "      <th>price_per_sqft</th>\n",
       "    </tr>\n",
       "  </thead>\n",
       "  <tbody>\n",
       "    <tr>\n",
       "      <th>0</th>\n",
       "      <td>Electronic City Phase II</td>\n",
       "      <td>2 BHK</td>\n",
       "      <td>1056.0</td>\n",
       "      <td>2.0</td>\n",
       "      <td>39.07</td>\n",
       "      <td>2</td>\n",
       "      <td>3699</td>\n",
       "    </tr>\n",
       "    <tr>\n",
       "      <th>1</th>\n",
       "      <td>Chikka Tirupathi</td>\n",
       "      <td>4 Bedroom</td>\n",
       "      <td>2600.0</td>\n",
       "      <td>5.0</td>\n",
       "      <td>120.00</td>\n",
       "      <td>4</td>\n",
       "      <td>4615</td>\n",
       "    </tr>\n",
       "    <tr>\n",
       "      <th>2</th>\n",
       "      <td>Uttarahalli</td>\n",
       "      <td>3 BHK</td>\n",
       "      <td>1440.0</td>\n",
       "      <td>2.0</td>\n",
       "      <td>62.00</td>\n",
       "      <td>3</td>\n",
       "      <td>4305</td>\n",
       "    </tr>\n",
       "    <tr>\n",
       "      <th>3</th>\n",
       "      <td>Lingadheeranahalli</td>\n",
       "      <td>3 BHK</td>\n",
       "      <td>1521.0</td>\n",
       "      <td>3.0</td>\n",
       "      <td>95.00</td>\n",
       "      <td>3</td>\n",
       "      <td>6245</td>\n",
       "    </tr>\n",
       "    <tr>\n",
       "      <th>4</th>\n",
       "      <td>Kothanur</td>\n",
       "      <td>2 BHK</td>\n",
       "      <td>1200.0</td>\n",
       "      <td>2.0</td>\n",
       "      <td>51.00</td>\n",
       "      <td>2</td>\n",
       "      <td>4250</td>\n",
       "    </tr>\n",
       "    <tr>\n",
       "      <th>...</th>\n",
       "      <td>...</td>\n",
       "      <td>...</td>\n",
       "      <td>...</td>\n",
       "      <td>...</td>\n",
       "      <td>...</td>\n",
       "      <td>...</td>\n",
       "      <td>...</td>\n",
       "    </tr>\n",
       "    <tr>\n",
       "      <th>13194</th>\n",
       "      <td>Green Glen Layout</td>\n",
       "      <td>3 BHK</td>\n",
       "      <td>1715.0</td>\n",
       "      <td>3.0</td>\n",
       "      <td>112.00</td>\n",
       "      <td>3</td>\n",
       "      <td>6530</td>\n",
       "    </tr>\n",
       "    <tr>\n",
       "      <th>13195</th>\n",
       "      <td>Whitefield</td>\n",
       "      <td>5 Bedroom</td>\n",
       "      <td>3453.0</td>\n",
       "      <td>4.0</td>\n",
       "      <td>231.00</td>\n",
       "      <td>5</td>\n",
       "      <td>6689</td>\n",
       "    </tr>\n",
       "    <tr>\n",
       "      <th>13196</th>\n",
       "      <td>other</td>\n",
       "      <td>4 BHK</td>\n",
       "      <td>3600.0</td>\n",
       "      <td>5.0</td>\n",
       "      <td>400.00</td>\n",
       "      <td>4</td>\n",
       "      <td>11111</td>\n",
       "    </tr>\n",
       "    <tr>\n",
       "      <th>13197</th>\n",
       "      <td>Raja Rajeshwari Nagar</td>\n",
       "      <td>2 BHK</td>\n",
       "      <td>1141.0</td>\n",
       "      <td>2.0</td>\n",
       "      <td>60.00</td>\n",
       "      <td>2</td>\n",
       "      <td>5258</td>\n",
       "    </tr>\n",
       "    <tr>\n",
       "      <th>13198</th>\n",
       "      <td>Padmanabhanagar</td>\n",
       "      <td>4 BHK</td>\n",
       "      <td>4689.0</td>\n",
       "      <td>4.0</td>\n",
       "      <td>488.00</td>\n",
       "      <td>4</td>\n",
       "      <td>10407</td>\n",
       "    </tr>\n",
       "  </tbody>\n",
       "</table>\n",
       "<p>12146 rows × 7 columns</p>\n",
       "</div>"
      ],
      "text/plain": [
       "                       location       size  total_sqft  bath   price  bhk  \\\n",
       "0      Electronic City Phase II      2 BHK      1056.0   2.0   39.07    2   \n",
       "1              Chikka Tirupathi  4 Bedroom      2600.0   5.0  120.00    4   \n",
       "2                   Uttarahalli      3 BHK      1440.0   2.0   62.00    3   \n",
       "3            Lingadheeranahalli      3 BHK      1521.0   3.0   95.00    3   \n",
       "4                      Kothanur      2 BHK      1200.0   2.0   51.00    2   \n",
       "...                         ...        ...         ...   ...     ...  ...   \n",
       "13194         Green Glen Layout      3 BHK      1715.0   3.0  112.00    3   \n",
       "13195                Whitefield  5 Bedroom      3453.0   4.0  231.00    5   \n",
       "13196                     other      4 BHK      3600.0   5.0  400.00    4   \n",
       "13197     Raja Rajeshwari Nagar      2 BHK      1141.0   2.0   60.00    2   \n",
       "13198           Padmanabhanagar      4 BHK      4689.0   4.0  488.00    4   \n",
       "\n",
       "       price_per_sqft  \n",
       "0                3699  \n",
       "1                4615  \n",
       "2                4305  \n",
       "3                6245  \n",
       "4                4250  \n",
       "...               ...  \n",
       "13194            6530  \n",
       "13195            6689  \n",
       "13196           11111  \n",
       "13197            5258  \n",
       "13198           10407  \n",
       "\n",
       "[12146 rows x 7 columns]"
      ]
     },
     "execution_count": 293,
     "metadata": {},
     "output_type": "execute_result"
    }
   ],
   "source": [
    "#data without outliers\n",
    "df5=df[(df.price_per_sqft>lower_limit) & (df.price_per_sqft<upper_limit)]\n",
    "df5"
   ]
  },
  {
   "cell_type": "code",
   "execution_count": 294,
   "id": "a0fcb3d4-d17e-44e5-af86-4c0b2f681d84",
   "metadata": {},
   "outputs": [
    {
     "name": "stdout",
     "output_type": "stream",
     "text": [
      "Before Removing Outliers: 12151\n",
      "After Removing Outliers: 12146\n",
      "Outliers: 5\n"
     ]
    }
   ],
   "source": [
    "print(\"Before Removing Outliers:\",len(df))\n",
    "print(\"After Removing Outliers:\",len(df5))\n",
    "print(\"Outliers:\",len(df)-len(df5))"
   ]
  },
  {
   "cell_type": "code",
   "execution_count": 295,
   "id": "8250a7ee-e5df-4895-b5b8-f35a034dad14",
   "metadata": {},
   "outputs": [
    {
     "name": "stderr",
     "output_type": "stream",
     "text": [
      "C:\\Users\\deepz\\AppData\\Local\\Temp\\ipykernel_10800\\546888992.py:1: UserWarning: \n",
      "\n",
      "`distplot` is a deprecated function and will be removed in seaborn v0.14.0.\n",
      "\n",
      "Please adapt your code to use either `displot` (a figure-level function with\n",
      "similar flexibility) or `histplot` (an axes-level function for histograms).\n",
      "\n",
      "For a guide to updating your code to use the new functions, please see\n",
      "https://gist.github.com/mwaskom/de44147ed2974457ad6372750bbe5751\n",
      "\n",
      "  sns.distplot(df5['price_per_sqft'],color='b')\n"
     ]
    },
    {
     "data": {
      "text/plain": [
       "<Axes: xlabel='price_per_sqft', ylabel='Density'>"
      ]
     },
     "execution_count": 295,
     "metadata": {},
     "output_type": "execute_result"
    },
    {
     "data": {
      "image/png": "[encoded data removed]",
      "text/plain": [
       "<Figure size 640x480 with 1 Axes>"
      ]
     },
     "metadata": {},
     "output_type": "display_data"
    }
   ],
   "source": [
    "sns.distplot(df5['price_per_sqft'],color='b')"
   ]
  },
  {
   "cell_type": "code",
   "execution_count": 296,
   "id": "2d0fb2e5-d3d3-4105-9ae4-64dc252e1eb6",
   "metadata": {},
   "outputs": [
    {
     "data": {
      "text/plain": [
       "<Axes: ylabel='price_per_sqft'>"
      ]
     },
     "execution_count": 296,
     "metadata": {},
     "output_type": "execute_result"
    },
    {
     "data": {
      "image/png": "[encoded data removed]",
      "text/plain": [
       "<Figure size 640x480 with 1 Axes>"
      ]
     },
     "metadata": {},
     "output_type": "display_data"
    }
   ],
   "source": [
    "sns.boxplot(df5['price_per_sqft'])"
   ]
  },
  {
   "cell_type": "markdown",
   "id": "df840143-d013-454d-a130-402ce93863c3",
   "metadata": {},
   "source": [
    "<span style='color:indigo'>***using the zscore method, there were 12,151 data rows before removing outliers, and 12,146 data rows after removal, indicating a total of 5 outliers.***"
   ]
  },
  {
   "cell_type": "markdown",
   "id": "54843c73-0909-4dab-92d6-d21736323d36",
   "metadata": {},
   "source": [
    "<span style='color:red'>***We identified the same outliers using both the normal distribution and z-score method, indicating same process in our outlier removal approach.***"
   ]
  },
  {
   "cell_type": "code",
   "execution_count": null,
   "id": "68e43dd3-2f56-4ad0-9ae6-ea062c8c3115",
   "metadata": {},
   "outputs": [],
   "source": []
  },
  {
   "cell_type": "markdown",
   "id": "ecb838e9-a336-4cfa-8ebf-5cd6fec991c0",
   "metadata": {},
   "source": [
    "## <span style='color:green'>Correlation between all the numerical columns"
   ]
  },
  {
   "cell_type": "code",
   "execution_count": 297,
   "id": "f206d908-3c99-4eb0-be97-5af356aa830a",
   "metadata": {},
   "outputs": [
    {
     "data": {
      "text/html": [
       "<div>\n",
       "<style scoped>\n",
       "    .dataframe tbody tr th:only-of-type {\n",
       "        vertical-align: middle;\n",
       "    }\n",
       "\n",
       "    .dataframe tbody tr th {\n",
       "        vertical-align: top;\n",
       "    }\n",
       "\n",
       "    .dataframe thead th {\n",
       "        text-align: right;\n",
       "    }\n",
       "</style>\n",
       "<table border=\"1\" class=\"dataframe\">\n",
       "  <thead>\n",
       "    <tr style=\"text-align: right;\">\n",
       "      <th></th>\n",
       "      <th>location</th>\n",
       "      <th>size</th>\n",
       "      <th>total_sqft</th>\n",
       "      <th>bath</th>\n",
       "      <th>price</th>\n",
       "      <th>bhk</th>\n",
       "      <th>price_per_sqft</th>\n",
       "    </tr>\n",
       "  </thead>\n",
       "  <tbody>\n",
       "    <tr>\n",
       "      <th>0</th>\n",
       "      <td>Electronic City Phase II</td>\n",
       "      <td>2 BHK</td>\n",
       "      <td>1056.0</td>\n",
       "      <td>2.0</td>\n",
       "      <td>39.07</td>\n",
       "      <td>2</td>\n",
       "      <td>3699</td>\n",
       "    </tr>\n",
       "    <tr>\n",
       "      <th>1</th>\n",
       "      <td>Chikka Tirupathi</td>\n",
       "      <td>4 Bedroom</td>\n",
       "      <td>2600.0</td>\n",
       "      <td>5.0</td>\n",
       "      <td>120.00</td>\n",
       "      <td>4</td>\n",
       "      <td>4615</td>\n",
       "    </tr>\n",
       "    <tr>\n",
       "      <th>2</th>\n",
       "      <td>Uttarahalli</td>\n",
       "      <td>3 BHK</td>\n",
       "      <td>1440.0</td>\n",
       "      <td>2.0</td>\n",
       "      <td>62.00</td>\n",
       "      <td>3</td>\n",
       "      <td>4305</td>\n",
       "    </tr>\n",
       "    <tr>\n",
       "      <th>3</th>\n",
       "      <td>Lingadheeranahalli</td>\n",
       "      <td>3 BHK</td>\n",
       "      <td>1521.0</td>\n",
       "      <td>3.0</td>\n",
       "      <td>95.00</td>\n",
       "      <td>3</td>\n",
       "      <td>6245</td>\n",
       "    </tr>\n",
       "    <tr>\n",
       "      <th>4</th>\n",
       "      <td>Kothanur</td>\n",
       "      <td>2 BHK</td>\n",
       "      <td>1200.0</td>\n",
       "      <td>2.0</td>\n",
       "      <td>51.00</td>\n",
       "      <td>2</td>\n",
       "      <td>4250</td>\n",
       "    </tr>\n",
       "    <tr>\n",
       "      <th>...</th>\n",
       "      <td>...</td>\n",
       "      <td>...</td>\n",
       "      <td>...</td>\n",
       "      <td>...</td>\n",
       "      <td>...</td>\n",
       "      <td>...</td>\n",
       "      <td>...</td>\n",
       "    </tr>\n",
       "    <tr>\n",
       "      <th>13194</th>\n",
       "      <td>Green Glen Layout</td>\n",
       "      <td>3 BHK</td>\n",
       "      <td>1715.0</td>\n",
       "      <td>3.0</td>\n",
       "      <td>112.00</td>\n",
       "      <td>3</td>\n",
       "      <td>6530</td>\n",
       "    </tr>\n",
       "    <tr>\n",
       "      <th>13195</th>\n",
       "      <td>Whitefield</td>\n",
       "      <td>5 Bedroom</td>\n",
       "      <td>3453.0</td>\n",
       "      <td>4.0</td>\n",
       "      <td>231.00</td>\n",
       "      <td>5</td>\n",
       "      <td>6689</td>\n",
       "    </tr>\n",
       "    <tr>\n",
       "      <th>13196</th>\n",
       "      <td>other</td>\n",
       "      <td>4 BHK</td>\n",
       "      <td>3600.0</td>\n",
       "      <td>5.0</td>\n",
       "      <td>400.00</td>\n",
       "      <td>4</td>\n",
       "      <td>11111</td>\n",
       "    </tr>\n",
       "    <tr>\n",
       "      <th>13197</th>\n",
       "      <td>Raja Rajeshwari Nagar</td>\n",
       "      <td>2 BHK</td>\n",
       "      <td>1141.0</td>\n",
       "      <td>2.0</td>\n",
       "      <td>60.00</td>\n",
       "      <td>2</td>\n",
       "      <td>5258</td>\n",
       "    </tr>\n",
       "    <tr>\n",
       "      <th>13198</th>\n",
       "      <td>Padmanabhanagar</td>\n",
       "      <td>4 BHK</td>\n",
       "      <td>4689.0</td>\n",
       "      <td>4.0</td>\n",
       "      <td>488.00</td>\n",
       "      <td>4</td>\n",
       "      <td>10407</td>\n",
       "    </tr>\n",
       "  </tbody>\n",
       "</table>\n",
       "<p>12151 rows × 7 columns</p>\n",
       "</div>"
      ],
      "text/plain": [
       "                       location       size  total_sqft  bath   price  bhk  \\\n",
       "0      Electronic City Phase II      2 BHK      1056.0   2.0   39.07    2   \n",
       "1              Chikka Tirupathi  4 Bedroom      2600.0   5.0  120.00    4   \n",
       "2                   Uttarahalli      3 BHK      1440.0   2.0   62.00    3   \n",
       "3            Lingadheeranahalli      3 BHK      1521.0   3.0   95.00    3   \n",
       "4                      Kothanur      2 BHK      1200.0   2.0   51.00    2   \n",
       "...                         ...        ...         ...   ...     ...  ...   \n",
       "13194         Green Glen Layout      3 BHK      1715.0   3.0  112.00    3   \n",
       "13195                Whitefield  5 Bedroom      3453.0   4.0  231.00    5   \n",
       "13196                     other      4 BHK      3600.0   5.0  400.00    4   \n",
       "13197     Raja Rajeshwari Nagar      2 BHK      1141.0   2.0   60.00    2   \n",
       "13198           Padmanabhanagar      4 BHK      4689.0   4.0  488.00    4   \n",
       "\n",
       "       price_per_sqft  \n",
       "0                3699  \n",
       "1                4615  \n",
       "2                4305  \n",
       "3                6245  \n",
       "4                4250  \n",
       "...               ...  \n",
       "13194            6530  \n",
       "13195            6689  \n",
       "13196           11111  \n",
       "13197            5258  \n",
       "13198           10407  \n",
       "\n",
       "[12151 rows x 7 columns]"
      ]
     },
     "execution_count": 297,
     "metadata": {},
     "output_type": "execute_result"
    }
   ],
   "source": [
    "df"
   ]
  },
  {
   "cell_type": "code",
   "execution_count": 298,
   "id": "afb4e6bc-64e4-466e-be46-1df7e7f63c08",
   "metadata": {},
   "outputs": [
    {
     "data": {
      "text/plain": [
       "Index(['total_sqft', 'bath', 'price', 'bhk', 'price_per_sqft'], dtype='object')"
      ]
     },
     "execution_count": 298,
     "metadata": {},
     "output_type": "execute_result"
    }
   ],
   "source": [
    "#finding the numerical columns\n",
    "#checking the dataset and selecting the numerical columns\n",
    "num_col=df.select_dtypes(include=['int', 'float']).columns\n",
    "num_col"
   ]
  },
  {
   "cell_type": "code",
   "execution_count": 299,
   "id": "fc6e0fbf-2cf3-45ab-8002-f5081bde2443",
   "metadata": {},
   "outputs": [],
   "source": [
    "#compute correlation mathrix\n",
    "corre_matrix=df[num_col].corr()"
   ]
  },
  {
   "cell_type": "code",
   "execution_count": 300,
   "id": "58902e32-f128-4aa0-b5fe-ea61c216a2bd",
   "metadata": {},
   "outputs": [
    {
     "data": {
      "image/png": "[encoded data removed]",
      "text/plain": [
       "<Figure size 1000x800 with 2 Axes>"
      ]
     },
     "metadata": {},
     "output_type": "display_data"
    }
   ],
   "source": [
    "#plotting heatmap\n",
    "plt.figure(figsize=(10, 8))\n",
    "sns.heatmap(corre_matrix, annot=True, cmap='plasma', fmt=\".2f\")\n",
    "plt.title('Correlation Heatmap')\n",
    "plt.show()"
   ]
  },
  {
   "cell_type": "markdown",
   "id": "f5fee35a-14d6-444c-8491-f66642a9f0bb",
   "metadata": {},
   "source": [
    "- <span style='color:indigo'>***Firstly, there seems to be a very weak negative correlation (-0.01) between Total Sqft and Price Per Sqft, implying that there's almost no linear relationship between these two variables.***\n",
    "\n",
    "- <span style='color:indigo'>***However, Total Sqft shows moderate positive correlations with other key variables such as BHK (0.35), Price (0.57), and Bath (0.39), indicating that as the total square feet increases, the number of bedrooms, the property price, and the number of bathrooms tend to increase as well, though not in a perfectly linear manner.***\n",
    "\n",
    "- <span style='color:indigo'>***Bath exhibits a strong positive correlation (0.90) with BHK, suggesting a strong linear relationship between the number of bathrooms and the number of bedrooms. Additionally, Bath also demonstrates moderate positive correlations with Price (0.46) and Total Sqft (0.39), indicating that properties with more bathrooms tend to command higher prices and have larger square feet.***\n",
    "\n",
    "- <span style='color:indigo'>***Price also exhibits moderate positive correlations with BHK (0.40) and Total Sqft (0.57), indicating that both the number of bedrooms and the total square footage have a positive impact on property prices, though again, not in a perfectly linear manner.***\n",
    "\n",
    "- <span style='color:indigo'>***Overall, these correlation coefficients provide valuable insights into how different factors are interrelated within our dataset, aiding in better understanding and potentially predicting property prices based on their characteristics.***"
   ]
  },
  {
   "cell_type": "code",
   "execution_count": null,
   "id": "e2f135db-e7ac-4553-9601-3a553ec3ef87",
   "metadata": {},
   "outputs": [],
   "source": [
    "#plot scatterplot\n",
    "sns.pairplot(df)\n",
    "plt.show()"
   ]
  },
  {
   "cell_type": "code",
   "execution_count": null,
   "id": "8b3e70ef-a40b-4bd3-b3f8-6f8f993e6f61",
   "metadata": {},
   "outputs": [],
   "source": []
  }
 ],
 "metadata": {
  "kernelspec": {
   "display_name": "Python 3 (ipykernel)",
   "language": "python",
   "name": "python3"
  },
  "language_info": {
   "codemirror_mode": {
    "name": "ipython",
    "version": 3
   },
   "file_extension": ".py",
   "mimetype": "text/x-python",
   "name": "python",
   "nbconvert_exporter": "python",
   "pygments_lexer": "ipython3",
   "version": "3.12.0"
  }
 },
 "nbformat": 4,
 "nbformat_minor": 5
}
