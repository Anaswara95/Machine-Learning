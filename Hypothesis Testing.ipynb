{
 "cells": [
  {
   "cell_type": "code",
   "execution_count": 11,
   "id": "ffae86fc-1a6d-45f3-9a01-631a6d707c3e",
   "metadata": {},
   "outputs": [
    {
     "name": "stdout",
     "output_type": "stream",
     "text": [
      "Collecting statsmodelsNote: you may need to restart the kernel to use updated packages.\n",
      "\n",
      "  Downloading statsmodels-0.14.1-cp312-cp312-win_amd64.whl.metadata (9.8 kB)\n",
      "Requirement already satisfied: numpy<2,>=1.18 in c:\\users\\deepz\\appdata\\local\\programs\\python\\python312\\lib\\site-packages (from statsmodels) (1.26.2)\n",
      "Collecting scipy!=1.9.2,>=1.4 (from statsmodels)\n",
      "  Downloading scipy-1.12.0-cp312-cp312-win_amd64.whl.metadata (60 kB)\n",
      "     ---------------------------------------- 0.0/60.4 kB ? eta -:--:--\n",
      "     ------ --------------------------------- 10.2/60.4 kB ? eta -:--:--\n",
      "     -------------------------------- ----- 51.2/60.4 kB 525.1 kB/s eta 0:00:01\n",
      "     -------------------------------- ----- 51.2/60.4 kB 525.1 kB/s eta 0:00:01\n",
      "     -------------------------------------- 60.4/60.4 kB 321.8 kB/s eta 0:00:00\n",
      "Requirement already satisfied: pandas!=2.1.0,>=1.0 in c:\\users\\deepz\\appdata\\local\\programs\\python\\python312\\lib\\site-packages (from statsmodels) (2.1.4)\n",
      "Collecting patsy>=0.5.4 (from statsmodels)\n",
      "  Downloading patsy-0.5.6-py2.py3-none-any.whl.metadata (3.5 kB)\n",
      "Requirement already satisfied: packaging>=21.3 in c:\\users\\deepz\\appdata\\local\\programs\\python\\python312\\lib\\site-packages (from statsmodels) (23.2)\n",
      "Requirement already satisfied: python-dateutil>=2.8.2 in c:\\users\\deepz\\appdata\\local\\programs\\python\\python312\\lib\\site-packages (from pandas!=2.1.0,>=1.0->statsmodels) (2.8.2)\n",
      "Requirement already satisfied: pytz>=2020.1 in c:\\users\\deepz\\appdata\\local\\programs\\python\\python312\\lib\\site-packages (from pandas!=2.1.0,>=1.0->statsmodels) (2023.3.post1)\n",
      "Requirement already satisfied: tzdata>=2022.1 in c:\\users\\deepz\\appdata\\local\\programs\\python\\python312\\lib\\site-packages (from pandas!=2.1.0,>=1.0->statsmodels) (2023.3)\n",
      "Requirement already satisfied: six in c:\\users\\deepz\\appdata\\local\\programs\\python\\python312\\lib\\site-packages (from patsy>=0.5.4->statsmodels) (1.16.0)\n",
      "Downloading statsmodels-0.14.1-cp312-cp312-win_amd64.whl (9.8 MB)\n",
      "   ---------------------------------------- 0.0/9.8 MB ? eta -:--:--\n",
      "   - -------------------------------------- 0.4/9.8 MB 7.6 MB/s eta 0:00:02\n",
      "   -- ------------------------------------- 0.6/9.8 MB 6.6 MB/s eta 0:00:02\n",
      "   ---- ----------------------------------- 1.0/9.8 MB 7.3 MB/s eta 0:00:02\n",
      "   ----- ---------------------------------- 1.5/9.8 MB 7.1 MB/s eta 0:00:02\n",
      "   ------- -------------------------------- 1.9/9.8 MB 6.7 MB/s eta 0:00:02\n",
      "   --------- ------------------------------ 2.3/9.8 MB 7.1 MB/s eta 0:00:02\n",
      "   ---------- ----------------------------- 2.7/9.8 MB 6.9 MB/s eta 0:00:02\n",
      "   ------------ --------------------------- 3.1/9.8 MB 6.9 MB/s eta 0:00:01\n",
      "   -------------- ------------------------- 3.5/9.8 MB 6.7 MB/s eta 0:00:01\n",
      "   --------------- ------------------------ 3.8/9.8 MB 6.6 MB/s eta 0:00:01\n",
      "   ----------------- ---------------------- 4.4/9.8 MB 6.6 MB/s eta 0:00:01\n",
      "   ------------------- -------------------- 4.7/9.8 MB 6.6 MB/s eta 0:00:01\n",
      "   -------------------- ------------------- 5.1/9.8 MB 6.6 MB/s eta 0:00:01\n",
      "   ---------------------- ----------------- 5.5/9.8 MB 6.6 MB/s eta 0:00:01\n",
      "   ----------------------- ---------------- 5.7/9.8 MB 6.6 MB/s eta 0:00:01\n",
      "   ----------------------- ---------------- 5.9/9.8 MB 6.5 MB/s eta 0:00:01\n",
      "   ------------------------ --------------- 6.1/9.8 MB 6.3 MB/s eta 0:00:01\n",
      "   --------------------------- ------------ 6.6/9.8 MB 6.5 MB/s eta 0:00:01\n",
      "   ---------------------------- ----------- 7.1/9.8 MB 6.5 MB/s eta 0:00:01\n",
      "   ----------------------------- ---------- 7.4/9.8 MB 6.5 MB/s eta 0:00:01\n",
      "   ------------------------------- -------- 7.6/9.8 MB 6.6 MB/s eta 0:00:01\n",
      "   ------------------------------- -------- 7.8/9.8 MB 6.5 MB/s eta 0:00:01\n",
      "   -------------------------------- ------- 8.0/9.8 MB 6.5 MB/s eta 0:00:01\n",
      "   ---------------------------------- ----- 8.4/9.8 MB 6.4 MB/s eta 0:00:01\n",
      "   ----------------------------------- ---- 8.7/9.8 MB 6.4 MB/s eta 0:00:01\n",
      "   ----------------------------------- ---- 8.7/9.8 MB 6.4 MB/s eta 0:00:01\n",
      "   ------------------------------------- -- 9.2/9.8 MB 6.5 MB/s eta 0:00:01\n",
      "   ---------------------------------------  9.6/9.8 MB 6.5 MB/s eta 0:00:01\n",
      "   ---------------------------------------  9.8/9.8 MB 6.4 MB/s eta 0:00:01\n",
      "   ---------------------------------------  9.8/9.8 MB 6.4 MB/s eta 0:00:01\n",
      "   ---------------------------------------  9.8/9.8 MB 6.4 MB/s eta 0:00:01\n",
      "   ---------------------------------------  9.8/9.8 MB 6.4 MB/s eta 0:00:01\n",
      "   ---------------------------------------  9.8/9.8 MB 6.4 MB/s eta 0:00:01\n",
      "   ---------------------------------------  9.8/9.8 MB 6.4 MB/s eta 0:00:01\n",
      "   ---------------------------------------  9.8/9.8 MB 6.4 MB/s eta 0:00:01\n",
      "   ---------------------------------------  9.8/9.8 MB 6.4 MB/s eta 0:00:01\n",
      "   ---------------------------------------  9.8/9.8 MB 6.4 MB/s eta 0:00:01\n",
      "   ---------------------------------------  9.8/9.8 MB 6.4 MB/s eta 0:00:01\n",
      "   ---------------------------------------  9.8/9.8 MB 6.4 MB/s eta 0:00:01\n",
      "   ---------------------------------------  9.8/9.8 MB 6.4 MB/s eta 0:00:01\n",
      "   ---------------------------------------- 9.8/9.8 MB 4.8 MB/s eta 0:00:00\n",
      "Downloading patsy-0.5.6-py2.py3-none-any.whl (233 kB)\n",
      "   ---------------------------------------- 0.0/233.9 kB ? eta -:--:--\n",
      "   -------------------------------------- - 225.3/233.9 kB 6.7 MB/s eta 0:00:01\n",
      "   -------------------------------------- - 225.3/233.9 kB 6.7 MB/s eta 0:00:01\n",
      "   -------------------------------------- - 225.3/233.9 kB 6.7 MB/s eta 0:00:01\n",
      "   -------------------------------------- - 225.3/233.9 kB 6.7 MB/s eta 0:00:01\n",
      "   ---------------------------------------- 233.9/233.9 kB 1.4 MB/s eta 0:00:00\n",
      "Downloading scipy-1.12.0-cp312-cp312-win_amd64.whl (45.8 MB)\n",
      "   ---------------------------------------- 0.0/45.8 MB ? eta -:--:--\n",
      "   ---------------------------------------- 0.2/45.8 MB 4.5 MB/s eta 0:00:11\n",
      "    --------------------------------------- 0.6/45.8 MB 6.4 MB/s eta 0:00:08\n",
      "    --------------------------------------- 1.1/45.8 MB 7.0 MB/s eta 0:00:07\n",
      "   - -------------------------------------- 1.3/45.8 MB 6.4 MB/s eta 0:00:08\n",
      "   - -------------------------------------- 1.7/45.8 MB 6.3 MB/s eta 0:00:07\n",
      "   - -------------------------------------- 2.1/45.8 MB 6.6 MB/s eta 0:00:07\n",
      "   -- ------------------------------------- 2.5/45.8 MB 6.7 MB/s eta 0:00:07\n",
      "   -- ------------------------------------- 3.0/45.8 MB 6.8 MB/s eta 0:00:07\n",
      "   -- ------------------------------------- 3.3/45.8 MB 6.7 MB/s eta 0:00:07\n",
      "   --- ------------------------------------ 3.7/45.8 MB 6.7 MB/s eta 0:00:07\n",
      "   --- ------------------------------------ 4.1/45.8 MB 6.7 MB/s eta 0:00:07\n",
      "   --- ------------------------------------ 4.5/45.8 MB 6.6 MB/s eta 0:00:07\n",
      "   ---- ----------------------------------- 4.7/45.8 MB 6.6 MB/s eta 0:00:07\n",
      "   ---- ----------------------------------- 5.1/45.8 MB 6.7 MB/s eta 0:00:07\n",
      "   ---- ----------------------------------- 5.4/45.8 MB 6.5 MB/s eta 0:00:07\n",
      "   ---- ----------------------------------- 5.7/45.8 MB 6.5 MB/s eta 0:00:07\n",
      "   ----- ---------------------------------- 5.9/45.8 MB 6.3 MB/s eta 0:00:07\n",
      "   ----- ---------------------------------- 6.3/45.8 MB 6.3 MB/s eta 0:00:07\n",
      "   ----- ---------------------------------- 6.6/45.8 MB 6.3 MB/s eta 0:00:07\n",
      "   ----- ---------------------------------- 6.9/45.8 MB 6.3 MB/s eta 0:00:07\n",
      "   ------ --------------------------------- 7.1/45.8 MB 6.2 MB/s eta 0:00:07\n",
      "   ------ --------------------------------- 7.5/45.8 MB 6.1 MB/s eta 0:00:07\n",
      "   ------ --------------------------------- 7.8/45.8 MB 6.1 MB/s eta 0:00:07\n",
      "   ------- -------------------------------- 8.2/45.8 MB 6.1 MB/s eta 0:00:07\n",
      "   ------- -------------------------------- 8.5/45.8 MB 6.1 MB/s eta 0:00:07\n",
      "   ------- -------------------------------- 8.8/45.8 MB 6.2 MB/s eta 0:00:06\n",
      "   ------- -------------------------------- 9.1/45.8 MB 6.2 MB/s eta 0:00:06\n",
      "   -------- ------------------------------- 9.3/45.8 MB 6.1 MB/s eta 0:00:06\n",
      "   -------- ------------------------------- 9.6/45.8 MB 6.1 MB/s eta 0:00:06\n",
      "   -------- ------------------------------- 10.0/45.8 MB 6.1 MB/s eta 0:00:06\n",
      "   --------- ------------------------------ 10.4/45.8 MB 6.1 MB/s eta 0:00:06\n",
      "   --------- ------------------------------ 10.6/45.8 MB 6.0 MB/s eta 0:00:06\n",
      "   --------- ------------------------------ 10.9/45.8 MB 6.1 MB/s eta 0:00:06\n",
      "   --------- ------------------------------ 11.1/45.8 MB 6.0 MB/s eta 0:00:06\n",
      "   ---------- ----------------------------- 11.5/45.8 MB 6.0 MB/s eta 0:00:06\n",
      "   ---------- ----------------------------- 11.8/45.8 MB 6.0 MB/s eta 0:00:06\n",
      "   ---------- ----------------------------- 12.2/45.8 MB 6.0 MB/s eta 0:00:06\n",
      "   ---------- ----------------------------- 12.6/45.8 MB 5.9 MB/s eta 0:00:06\n",
      "   ----------- ---------------------------- 13.0/45.8 MB 6.0 MB/s eta 0:00:06\n",
      "   ----------- ---------------------------- 13.4/45.8 MB 5.9 MB/s eta 0:00:06\n",
      "   ----------- ---------------------------- 13.7/45.8 MB 5.9 MB/s eta 0:00:06\n",
      "   ------------ --------------------------- 14.0/45.8 MB 5.9 MB/s eta 0:00:06\n",
      "   ------------ --------------------------- 14.3/45.8 MB 5.8 MB/s eta 0:00:06\n",
      "   ------------ --------------------------- 14.7/45.8 MB 5.9 MB/s eta 0:00:06\n",
      "   ------------- -------------------------- 15.0/45.8 MB 6.0 MB/s eta 0:00:06\n",
      "   ------------- -------------------------- 15.3/45.8 MB 5.8 MB/s eta 0:00:06\n",
      "   ------------- -------------------------- 15.7/45.8 MB 5.9 MB/s eta 0:00:06\n",
      "   ------------- -------------------------- 16.0/45.8 MB 6.0 MB/s eta 0:00:06\n",
      "   -------------- ------------------------- 16.4/45.8 MB 6.0 MB/s eta 0:00:05\n",
      "   -------------- ------------------------- 16.7/45.8 MB 6.0 MB/s eta 0:00:05\n",
      "   -------------- ------------------------- 17.0/45.8 MB 6.1 MB/s eta 0:00:05\n",
      "   --------------- ------------------------ 17.2/45.8 MB 6.1 MB/s eta 0:00:05\n",
      "   --------------- ------------------------ 17.5/45.8 MB 6.1 MB/s eta 0:00:05\n",
      "   --------------- ------------------------ 17.8/45.8 MB 6.2 MB/s eta 0:00:05\n",
      "   --------------- ------------------------ 18.0/45.8 MB 6.2 MB/s eta 0:00:05\n",
      "   --------------- ------------------------ 18.3/45.8 MB 6.3 MB/s eta 0:00:05\n",
      "   ---------------- ----------------------- 18.6/45.8 MB 6.2 MB/s eta 0:00:05\n",
      "   ---------------- ----------------------- 18.8/45.8 MB 6.2 MB/s eta 0:00:05\n",
      "   ---------------- ----------------------- 19.3/45.8 MB 6.2 MB/s eta 0:00:05\n",
      "   ----------------- ---------------------- 19.5/45.8 MB 6.2 MB/s eta 0:00:05\n",
      "   ----------------- ---------------------- 20.0/45.8 MB 6.3 MB/s eta 0:00:05\n",
      "   ----------------- ---------------------- 20.4/45.8 MB 6.3 MB/s eta 0:00:05\n",
      "   ------------------ --------------------- 20.8/45.8 MB 6.4 MB/s eta 0:00:04\n",
      "   ------------------ --------------------- 21.3/45.8 MB 6.4 MB/s eta 0:00:04\n",
      "   ------------------ --------------------- 21.6/45.8 MB 6.5 MB/s eta 0:00:04\n",
      "   ------------------- -------------------- 22.0/45.8 MB 6.5 MB/s eta 0:00:04\n",
      "   ------------------- -------------------- 22.3/45.8 MB 6.5 MB/s eta 0:00:04\n",
      "   ------------------- -------------------- 22.8/45.8 MB 6.4 MB/s eta 0:00:04\n",
      "   -------------------- ------------------- 23.0/45.8 MB 6.5 MB/s eta 0:00:04\n",
      "   -------------------- ------------------- 23.2/45.8 MB 6.4 MB/s eta 0:00:04\n",
      "   -------------------- ------------------- 23.5/45.8 MB 6.3 MB/s eta 0:00:04\n",
      "   -------------------- ------------------- 23.9/45.8 MB 6.3 MB/s eta 0:00:04\n",
      "   --------------------- ------------------ 24.2/45.8 MB 6.3 MB/s eta 0:00:04\n",
      "   --------------------- ------------------ 24.5/45.8 MB 6.3 MB/s eta 0:00:04\n",
      "   --------------------- ------------------ 24.9/45.8 MB 6.2 MB/s eta 0:00:04\n",
      "   ---------------------- ----------------- 25.2/45.8 MB 6.1 MB/s eta 0:00:04\n",
      "   ---------------------- ----------------- 25.6/45.8 MB 6.2 MB/s eta 0:00:04\n",
      "   ---------------------- ----------------- 25.8/45.8 MB 6.1 MB/s eta 0:00:04\n",
      "   ---------------------- ----------------- 26.2/45.8 MB 6.2 MB/s eta 0:00:04\n",
      "   ----------------------- ---------------- 26.4/45.8 MB 6.1 MB/s eta 0:00:04\n",
      "   ----------------------- ---------------- 26.8/45.8 MB 6.1 MB/s eta 0:00:04\n",
      "   ----------------------- ---------------- 27.1/45.8 MB 6.0 MB/s eta 0:00:04\n",
      "   ----------------------- ---------------- 27.4/45.8 MB 6.0 MB/s eta 0:00:04\n",
      "   ------------------------ --------------- 27.7/45.8 MB 6.0 MB/s eta 0:00:04\n",
      "   ------------------------ --------------- 28.0/45.8 MB 5.9 MB/s eta 0:00:04\n",
      "   ------------------------ --------------- 28.4/45.8 MB 5.9 MB/s eta 0:00:03\n",
      "   ------------------------- -------------- 28.8/45.8 MB 5.8 MB/s eta 0:00:03\n",
      "   ------------------------- -------------- 29.0/45.8 MB 5.8 MB/s eta 0:00:03\n",
      "   ------------------------- -------------- 29.2/45.8 MB 5.8 MB/s eta 0:00:03\n",
      "   ------------------------- -------------- 29.4/45.8 MB 5.8 MB/s eta 0:00:03\n",
      "   ------------------------- -------------- 29.7/45.8 MB 5.7 MB/s eta 0:00:03\n",
      "   -------------------------- ------------- 30.0/45.8 MB 5.8 MB/s eta 0:00:03\n",
      "   -------------------------- ------------- 30.4/45.8 MB 5.6 MB/s eta 0:00:03\n",
      "   -------------------------- ------------- 30.8/45.8 MB 5.8 MB/s eta 0:00:03\n",
      "   -------------------------- ------------- 30.9/45.8 MB 5.6 MB/s eta 0:00:03\n",
      "   --------------------------- ------------ 31.1/45.8 MB 5.6 MB/s eta 0:00:03\n",
      "   --------------------------- ------------ 31.5/45.8 MB 5.6 MB/s eta 0:00:03\n",
      "   --------------------------- ------------ 31.8/45.8 MB 5.5 MB/s eta 0:00:03\n",
      "   ---------------------------- ----------- 32.1/45.8 MB 5.5 MB/s eta 0:00:03\n",
      "   ---------------------------- ----------- 32.5/45.8 MB 5.5 MB/s eta 0:00:03\n",
      "   ---------------------------- ----------- 32.8/45.8 MB 5.5 MB/s eta 0:00:03\n",
      "   ---------------------------- ----------- 33.2/45.8 MB 5.5 MB/s eta 0:00:03\n",
      "   ----------------------------- ---------- 33.5/45.8 MB 5.5 MB/s eta 0:00:03\n",
      "   ----------------------------- ---------- 33.8/45.8 MB 5.6 MB/s eta 0:00:03\n",
      "   ----------------------------- ---------- 34.1/45.8 MB 5.6 MB/s eta 0:00:03\n",
      "   ------------------------------ --------- 34.4/45.8 MB 5.5 MB/s eta 0:00:03\n",
      "   ------------------------------ --------- 34.8/45.8 MB 5.6 MB/s eta 0:00:02\n",
      "   ------------------------------ --------- 35.3/45.8 MB 5.6 MB/s eta 0:00:02\n",
      "   ------------------------------- -------- 35.7/45.8 MB 5.6 MB/s eta 0:00:02\n",
      "   ------------------------------- -------- 36.0/45.8 MB 5.6 MB/s eta 0:00:02\n",
      "   ------------------------------- -------- 36.4/45.8 MB 5.6 MB/s eta 0:00:02\n",
      "   ------------------------------- -------- 36.6/45.8 MB 5.6 MB/s eta 0:00:02\n",
      "   -------------------------------- ------- 37.0/45.8 MB 5.6 MB/s eta 0:00:02\n",
      "   -------------------------------- ------- 37.3/45.8 MB 5.6 MB/s eta 0:00:02\n",
      "   -------------------------------- ------- 37.7/45.8 MB 5.7 MB/s eta 0:00:02\n",
      "   --------------------------------- ------ 38.1/45.8 MB 5.7 MB/s eta 0:00:02\n",
      "   --------------------------------- ------ 38.5/45.8 MB 5.8 MB/s eta 0:00:02\n",
      "   --------------------------------- ------ 38.7/45.8 MB 5.7 MB/s eta 0:00:02\n",
      "   ---------------------------------- ----- 39.2/45.8 MB 5.8 MB/s eta 0:00:02\n",
      "   ---------------------------------- ----- 39.6/45.8 MB 5.8 MB/s eta 0:00:02\n",
      "   ---------------------------------- ----- 39.9/45.8 MB 6.0 MB/s eta 0:00:01\n",
      "   ----------------------------------- ---- 40.1/45.8 MB 6.0 MB/s eta 0:00:01\n",
      "   ----------------------------------- ---- 40.5/45.8 MB 6.0 MB/s eta 0:00:01\n",
      "   ----------------------------------- ---- 40.8/45.8 MB 6.0 MB/s eta 0:00:01\n",
      "   ----------------------------------- ---- 41.2/45.8 MB 6.1 MB/s eta 0:00:01\n",
      "   ------------------------------------ --- 41.4/45.8 MB 6.1 MB/s eta 0:00:01\n",
      "   ------------------------------------ --- 41.7/45.8 MB 6.1 MB/s eta 0:00:01\n",
      "   ------------------------------------ --- 41.9/45.8 MB 6.1 MB/s eta 0:00:01\n",
      "   ------------------------------------ --- 42.1/45.8 MB 6.1 MB/s eta 0:00:01\n",
      "   ------------------------------------- -- 42.5/45.8 MB 6.1 MB/s eta 0:00:01\n",
      "   ------------------------------------- -- 42.8/45.8 MB 6.1 MB/s eta 0:00:01\n",
      "   ------------------------------------- -- 43.1/45.8 MB 6.1 MB/s eta 0:00:01\n",
      "   ------------------------------------- -- 43.1/45.8 MB 6.1 MB/s eta 0:00:01\n",
      "   ------------------------------------- -- 43.1/45.8 MB 6.1 MB/s eta 0:00:01\n",
      "   ------------------------------------- -- 43.1/45.8 MB 6.1 MB/s eta 0:00:01\n",
      "   ------------------------------------- -- 43.1/45.8 MB 6.1 MB/s eta 0:00:01\n",
      "   ------------------------------------- -- 43.1/45.8 MB 6.1 MB/s eta 0:00:01\n",
      "   ------------------------------------- -- 43.1/45.8 MB 6.1 MB/s eta 0:00:01\n",
      "   ------------------------------------- -- 43.1/45.8 MB 6.1 MB/s eta 0:00:01\n",
      "   ------------------------------------- -- 43.1/45.8 MB 6.1 MB/s eta 0:00:01\n",
      "   ------------------------------------- -- 43.1/45.8 MB 6.1 MB/s eta 0:00:01\n",
      "   ------------------------------------- -- 43.1/45.8 MB 6.1 MB/s eta 0:00:01\n",
      "   -------------------------------------- - 43.6/45.8 MB 4.7 MB/s eta 0:00:01\n",
      "   ---------------------------------------  44.9/45.8 MB 5.2 MB/s eta 0:00:01\n",
      "   ---------------------------------------  45.8/45.8 MB 5.5 MB/s eta 0:00:01\n",
      "   ---------------------------------------  45.8/45.8 MB 5.5 MB/s eta 0:00:01\n",
      "   ---------------------------------------  45.8/45.8 MB 5.5 MB/s eta 0:00:01\n",
      "   ---------------------------------------  45.8/45.8 MB 5.5 MB/s eta 0:00:01\n",
      "   ---------------------------------------  45.8/45.8 MB 5.5 MB/s eta 0:00:01\n",
      "   ---------------------------------------  45.8/45.8 MB 5.5 MB/s eta 0:00:01\n",
      "   ---------------------------------------  45.8/45.8 MB 5.5 MB/s eta 0:00:01\n",
      "   ---------------------------------------  45.8/45.8 MB 5.5 MB/s eta 0:00:01\n",
      "   ---------------------------------------  45.8/45.8 MB 5.5 MB/s eta 0:00:01\n",
      "   ---------------------------------------  45.8/45.8 MB 5.5 MB/s eta 0:00:01\n",
      "   ---------------------------------------  45.8/45.8 MB 5.5 MB/s eta 0:00:01\n",
      "   ---------------------------------------  45.8/45.8 MB 5.5 MB/s eta 0:00:01\n",
      "   ---------------------------------------  45.8/45.8 MB 5.5 MB/s eta 0:00:01\n",
      "   ---------------------------------------  45.8/45.8 MB 5.5 MB/s eta 0:00:01\n",
      "   ---------------------------------------  45.8/45.8 MB 5.5 MB/s eta 0:00:01\n",
      "   ---------------------------------------  45.8/45.8 MB 5.5 MB/s eta 0:00:01\n",
      "   ---------------------------------------  45.8/45.8 MB 5.5 MB/s eta 0:00:01\n",
      "   ---------------------------------------  45.8/45.8 MB 5.5 MB/s eta 0:00:01\n",
      "   ---------------------------------------  45.8/45.8 MB 5.5 MB/s eta 0:00:01\n",
      "   ---------------------------------------  45.8/45.8 MB 5.5 MB/s eta 0:00:01\n",
      "   ---------------------------------------  45.8/45.8 MB 5.5 MB/s eta 0:00:01\n",
      "   ---------------------------------------  45.8/45.8 MB 5.5 MB/s eta 0:00:01\n",
      "   ---------------------------------------  45.8/45.8 MB 5.5 MB/s eta 0:00:01\n",
      "   ---------------------------------------- 45.8/45.8 MB 3.4 MB/s eta 0:00:00\n",
      "Installing collected packages: scipy, patsy, statsmodels\n",
      "Successfully installed patsy-0.5.6 scipy-1.12.0 statsmodels-0.14.1\n"
     ]
    },
    {
     "name": "stderr",
     "output_type": "stream",
     "text": [
      "\n",
      "[notice] A new release of pip is available: 23.3.2 -> 24.0\n",
      "[notice] To update, run: python.exe -m pip install --upgrade pip\n"
     ]
    }
   ],
   "source": [
    "pip install statsmodels"
   ]
  },
  {
   "cell_type": "code",
   "execution_count": 12,
   "id": "344a1352-a2a9-4fdf-9dec-db557493e530",
   "metadata": {},
   "outputs": [
    {
     "name": "stdout",
     "output_type": "stream",
     "text": [
      "Requirement already satisfied: scipy in c:\\users\\deepz\\appdata\\local\\programs\\python\\python312\\lib\\site-packages (1.12.0)\n",
      "Requirement already satisfied: numpy<1.29.0,>=1.22.4 in c:\\users\\deepz\\appdata\\local\\programs\\python\\python312\\lib\\site-packages (from scipy) (1.26.2)\n",
      "Note: you may need to restart the kernel to use updated packages.\n"
     ]
    },
    {
     "name": "stderr",
     "output_type": "stream",
     "text": [
      "\n",
      "[notice] A new release of pip is available: 23.3.2 -> 24.0\n",
      "[notice] To update, run: python.exe -m pip install --upgrade pip\n"
     ]
    }
   ],
   "source": [
    "pip install scipy"
   ]
  },
  {
   "cell_type": "code",
   "execution_count": 14,
   "id": "995aa5a6-7348-40b6-940d-75e2d80f4733",
   "metadata": {},
   "outputs": [],
   "source": [
    "import numpy as np"
   ]
  },
  {
   "cell_type": "markdown",
   "id": "adddda76-f1b1-42ae-9b62-6643ea05cae3",
   "metadata": {},
   "source": [
    "# <span style='color:blue'> HYPOTHESIS TESTING"
   ]
  },
  {
   "cell_type": "markdown",
   "id": "9318eeaa-19d0-44f5-aeec-ddbbee321feb",
   "metadata": {},
   "source": [
    "<span style='color:green'>***Hypothesis testing is a fundamental statistical method used to make inferences about population parameters based on sample data. It involves formulating two competing hypotheses: the null hypothesis (H0), which typically states that there is no effect or no difference between groups, and the alternative hypothesis (H1), which asserts the presence of an effect or difference. The process generally entails selecting an appropriate statistical test based on the nature of the data and the research question, calculating a test statistic from the sample data, and determining the probability of obtaining such results under the assumption that the null hypothesis is true, known as the p-value. If the p-value is below a predetermined significance level (usually 0.05), the null hypothesis is rejected in favor of the alternative hypothesis, suggesting evidence for the presence of an effect or difference. Otherwise, if the p-value is above the significance level, the null hypothesis is not rejected. Hypothesis testing provides a systematic framework for drawing conclusions from data, aiding researchers in making informed decisions and drawing valid inferences about the population.***"
   ]
  },
  {
   "cell_type": "markdown",
   "id": "98ffd97d-b3ff-4012-8476-fea43717151c",
   "metadata": {},
   "source": [
    "## <span style='color:blue'> TASKS"
   ]
  },
  {
   "cell_type": "markdown",
   "id": "dca75b6c-027c-443f-8708-567c1029bbbc",
   "metadata": {},
   "source": [
    "#### Q1.Suppose a child psychologist claims that the average time working mothers spend talking to their children is at least 11 minutes per day. You conduct a random sample of 1000 working mothers and find they spend an average of 11.5 minutes per day talking with their children. Assume prior research suggests the population standard deviation is 2.3 minutes.Conduct a test with a level of significance of alpha = 0.05"
   ]
  },
  {
   "cell_type": "markdown",
   "id": "ecdb95b9-8a5e-4104-9ca7-a65d66e6d541",
   "metadata": {},
   "source": [
    "### <span style='color:blue'>Null Hypothesis\n",
    "#### <span style='color:indigo'>Ho = &mu; &le; 11 minutes"
   ]
  },
  {
   "cell_type": "markdown",
   "id": "370fc9c3-d49a-4bd1-b8eb-1520c7a7e16d",
   "metadata": {},
   "source": [
    "### <span style='color:blue'>Alternative Hypothesis\n",
    "#### <span style='color:indigo'>Ha = &mu; > 11 minutes"
   ]
  },
  {
   "cell_type": "markdown",
   "id": "d16a95cc-74e2-447b-a090-afbfbc524965",
   "metadata": {},
   "source": [
    "#### <span style='color:indigo'>x&#772; = 11.5 minutes\n"
   ]
  },
  {
   "cell_type": "markdown",
   "id": "99f3630a-7732-4605-b3fa-892952fc23f2",
   "metadata": {},
   "source": [
    "#### <span style='color:indigo'>n = 1000"
   ]
  },
  {
   "cell_type": "markdown",
   "id": "edec656e-a278-43ee-8cc4-54ff17415052",
   "metadata": {},
   "source": [
    "#### <span style='color:indigo'>&sigma; = 2.3 minutes"
   ]
  },
  {
   "cell_type": "markdown",
   "id": "00d440fa-f977-405a-82c9-1c711018b878",
   "metadata": {},
   "source": [
    "#### <span style='color:indigo'>&alpha; = 0.05"
   ]
  },
  {
   "cell_type": "markdown",
   "id": "4aa661df-e6f8-4b3c-90ae-ada1c7d1af05",
   "metadata": {},
   "source": [
    "### Statistical Test\n",
    "Since we have a sample of 1000, which is greater than 30, and we have a sample mean, standard deviation, and want to compare the sample mean to a population value ,so we acn use Z-test.\n",
    "\n",
    "rejection criteria is z_statistics>critical value, fail to accept Ho\n",
    "\n",
    "Formula Z=(x&#772; - &mu;)/(&sigma;/&radic;n)\n",
    "\n",
    "Where: x&#772; = sample mean (11.5 minutes), &mu; = population mean (11 minutes), &sigma; = population standard deviation (2.3 minutes), n = sample size (1000)."
   ]
  },
  {
   "cell_type": "code",
   "execution_count": 8,
   "id": "151d7a3d-e572-4674-86e8-f661585e7912",
   "metadata": {},
   "outputs": [],
   "source": [
    "import math"
   ]
  },
  {
   "cell_type": "code",
   "execution_count": 10,
   "id": "cca354f4-83dd-4063-ac3a-3debb274000a",
   "metadata": {},
   "outputs": [
    {
     "data": {
      "text/plain": [
       "6.874516652539955"
      ]
     },
     "execution_count": 10,
     "metadata": {},
     "output_type": "execute_result"
    }
   ],
   "source": [
    "Z = (11.5-11)/(2.3/math.sqrt(1000))\n",
    "Z"
   ]
  },
  {
   "cell_type": "markdown",
   "id": "94e08e4e-4d20-42bf-95e2-0d6ca1aae078",
   "metadata": {},
   "source": [
    "### Determine Critical Value or P-Value:\n",
    "Since we're conducting a one-tailed test (since we're testing if the average time is more than 11 minutes), we will look up the crirical value for a z-score corresponding to an alpha level of 0.05 from z-distribution table. "
   ]
  },
  {
   "cell_type": "markdown",
   "id": "34ab8e41-3a17-47e3-9fd9-41517ea3de1e",
   "metadata": {},
   "source": [
    "#### corresponds to an alpha level of 0.05.\n",
    "Critical value=1.645"
   ]
  },
  {
   "cell_type": "markdown",
   "id": "3f926eaf-12b7-40a8-88f8-fd2f8163d7b1",
   "metadata": {},
   "source": [
    "### Conslusion:\n",
    "### Since our calculated z-score (6.88) is much greater than the critical value (1.645), we reject the null hypothesis. We have sufficient evidence to conclude that the average time working mothers spend talking to their children is indeed more than 11 minutes per day ."
   ]
  },
  {
   "cell_type": "code",
   "execution_count": null,
   "id": "cd402213-94f1-4a7e-9a54-fbb918ad9075",
   "metadata": {},
   "outputs": [],
   "source": []
  },
  {
   "cell_type": "markdown",
   "id": "e2325ade-7c56-4d9e-93ac-5e7d6cb1fb62",
   "metadata": {},
   "source": [
    "### Q2. A coffee shop claims that their average wait time for customers is less than 5 minutes. To test this claim, a sample of 40 customers is taken, and their wait times are recorded. The sample mean wait time is found to be 4.6 minutes with a standard deviation of 0.8 minutes. Perform a hypothesis test at a significance level of 0.05 and determine whether there is enough evidence to support the coffee shop's claim."
   ]
  },
  {
   "cell_type": "markdown",
   "id": "1de09d81-2e9f-487a-bb5a-f5ec2eec1b6f",
   "metadata": {},
   "source": [
    "### <span style='color:blue'>Null Hypothesis\n",
    "#### <span style='color:indigo'>Ho = &mu; &ge; 5 minutes"
   ]
  },
  {
   "cell_type": "markdown",
   "id": "509d724f-9fca-45b4-aacb-62d261141589",
   "metadata": {},
   "source": [
    "### <span style='color:blue'>Alternative Hypothesis\n",
    "#### <span style='color:indigo'>Ha = &mu; < 5 minutes"
   ]
  },
  {
   "cell_type": "markdown",
   "id": "1103c268-f379-40ff-a4c0-0d9d6d9e81db",
   "metadata": {},
   "source": [
    "#### <span style='color:indigo'>Sample mean(x&#772;) = 4.6 minutes"
   ]
  },
  {
   "cell_type": "markdown",
   "id": "46c7458f-0bc8-49eb-abf9-1b916627fe0f",
   "metadata": {},
   "source": [
    "#### <span style='color:indigo'>Sample size(n) = 40"
   ]
  },
  {
   "cell_type": "markdown",
   "id": "b471d154-052c-4175-97d3-afe1230e1ff0",
   "metadata": {},
   "source": [
    "#### <span style='color:indigo'>Sample Standard deviation(&sigma;) = 0.8 minutes"
   ]
  },
  {
   "cell_type": "markdown",
   "id": "b4126a1f-d3f1-41bb-8471-7c2182cf8180",
   "metadata": {},
   "source": [
    "#### <span style='color:indigo'>Population mean(&mu;) = 5 minutes"
   ]
  },
  {
   "cell_type": "markdown",
   "id": "31b70be4-39a4-4111-873e-9f414c3e75a3",
   "metadata": {},
   "source": [
    "#### <span style='color:indigo'>Significance level(&alpha;) = 0.05(5%)"
   ]
  },
  {
   "cell_type": "markdown",
   "id": "b8f55a72-6371-415f-8c6f-fd00d2130e3f",
   "metadata": {},
   "source": [
    "#### <span style='color:indigo'>Degree of freedom(n-1) = 39"
   ]
  },
  {
   "cell_type": "code",
   "execution_count": null,
   "id": "5fcb42c2-c54d-4c94-9197-af8767b87e0d",
   "metadata": {},
   "outputs": [],
   "source": []
  },
  {
   "cell_type": "markdown",
   "id": "4b753342-0883-4b9b-a97f-7ce97fdf3cd6",
   "metadata": {},
   "source": [
    "### Statistical Test:\n",
    "#### Here the population std is unknown, so we can use t-test for this.\n",
    "\n",
    "##### If the sample size is small (typically <30) and the population standard deviation is unknown, the t-test is appropriate. However, for larger sample sizes (usually greater than 30), the t-test can also be used even if the population standard deviation is unknown due to the Central Limit Theorem, which states that the distribution of sample means approaches a normal distribution as the sample size increases.\n",
    "\n",
    "### t_test_statistic=(x&#772; - &mu;) / (&sigma; / &radic;n)"
   ]
  },
  {
   "cell_type": "code",
   "execution_count": 16,
   "id": "68dfdb62-f710-4c05-90ac-fe337b24d145",
   "metadata": {},
   "outputs": [
    {
     "name": "stdout",
     "output_type": "stream",
     "text": [
      "t_statistic: -3.162277660168382\n"
     ]
    }
   ],
   "source": [
    "t_test_statistic=(4.6 - 5) / (0.8 / np.sqrt(40))\n",
    "print('t_statistic:',t_test_statistic)"
   ]
  },
  {
   "cell_type": "markdown",
   "id": "8360da4f-ae95-456f-af12-3d4f6b63e0f8",
   "metadata": {},
   "source": [
    "\n",
    "#### The function t.ppf(alpha, df) calculates a critical value from the t-distribution based on the provided significance level (alpha) and degrees of freedom (df).\n",
    "\n",
    "#### The term \"percent point function\" (ppf) means it gives you a value from the distribution such that if you randomly select a value from the distribution, there's a certain probability it will be less than or equal to that value.\n",
    "\n",
    "#### In simpler terms, it helps to find a specific value in the t-distribution where a certain percentage of the distribution falls below that value."
   ]
  },
  {
   "cell_type": "code",
   "execution_count": 18,
   "id": "e041e4f5-c8b8-4cd8-937c-4e6f2d3a5e4a",
   "metadata": {},
   "outputs": [
    {
     "name": "stdout",
     "output_type": "stream",
     "text": [
      "Critical value: -1.6848751194974\n"
     ]
    }
   ],
   "source": [
    "#calculating the critical value with df 39 and alpha 0.05\n",
    "from scipy.stats import t\n",
    "critical_value = t.ppf(0.05, 39)\n",
    "\n",
    "print(\"Critical value:\", critical_value)"
   ]
  },
  {
   "cell_type": "markdown",
   "id": "b8204da2-0d18-43a4-abb1-ab5f4404c5b5",
   "metadata": {},
   "source": [
    "### Conclusion\n",
    "#### Since our calculated t-value (-3.16) is less than the critical t-value (-1.685), we fail to accept the null hypothesis.\n",
    "\n",
    "#### There is enough evidence to support the claim that the average wait time for customers is less than 5 minutes at a significance level of 0.05."
   ]
  },
  {
   "cell_type": "code",
   "execution_count": null,
   "id": "2f2efd5e-186c-42f4-8aef-6172e882c317",
   "metadata": {},
   "outputs": [],
   "source": []
  }
 ],
 "metadata": {
  "kernelspec": {
   "display_name": "Python 3 (ipykernel)",
   "language": "python",
   "name": "python3"
  },
  "language_info": {
   "codemirror_mode": {
    "name": "ipython",
    "version": 3
   },
   "file_extension": ".py",
   "mimetype": "text/x-python",
   "name": "python",
   "nbconvert_exporter": "python",
   "pygments_lexer": "ipython3",
   "version": "3.12.0"
  }
 },
 "nbformat": 4,
 "nbformat_minor": 5
}
